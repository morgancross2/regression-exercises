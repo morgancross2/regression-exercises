{
 "cells": [
  {
   "cell_type": "code",
   "execution_count": 1,
   "id": "e28971dc-b990-47a9-9647-a16d62c7c60e",
   "metadata": {},
   "outputs": [],
   "source": [
    "# standard ds imports\n",
    "import numpy as np\n",
    "import pandas as pd\n",
    "\n",
    "# for visualization\n",
    "%matplotlib inline\n",
    "import matplotlib.pyplot as plt\n",
    "import seaborn as sns\n",
    "sns.set()\n",
    "\n",
    "# for statistical analysis\n",
    "import scipy.stats as stats\n",
    "\n",
    "# for wrangling\n",
    "import wrangle\n",
    "\n",
    "# for scaling\n",
    "from sklearn.preprocessing import MinMaxScaler, StandardScaler, RobustScaler, QuantileTransformer\n",
    "\n",
    "# for modeling and evaluation\n",
    "from sklearn.metrics import r2_score, mean_squared_error\n",
    "from sklearn.linear_model import LinearRegression"
   ]
  },
  {
   "cell_type": "markdown",
   "id": "9a90bd65-1971-4879-ae7b-03be5fe8d957",
   "metadata": {},
   "source": [
    "#### 1. Load your zillow dataset."
   ]
  },
  {
   "cell_type": "code",
   "execution_count": 2,
   "id": "1085c259-d154-4a58-9181-b0e221bb0c95",
   "metadata": {},
   "outputs": [],
   "source": [
    "zil = wrangle.wrangle_zillow()"
   ]
  },
  {
   "cell_type": "code",
   "execution_count": 3,
   "id": "2b4f5c7a-e156-4244-abb8-27c3dab2c0f0",
   "metadata": {},
   "outputs": [
    {
     "name": "stdout",
     "output_type": "stream",
     "text": [
      "<class 'pandas.core.frame.DataFrame'>\n",
      "Int64Index: 1855285 entries, 6 to 2152863\n",
      "Data columns (total 8 columns):\n",
      " #   Column     Dtype  \n",
      "---  ------     -----  \n",
      " 0   beds       float64\n",
      " 1   baths      float64\n",
      " 2   sqft       float64\n",
      " 3   tax_value  float64\n",
      " 4   built      float64\n",
      " 5   taxes      float64\n",
      " 6   city       float64\n",
      " 7   location   object \n",
      "dtypes: float64(7), object(1)\n",
      "memory usage: 127.4+ MB\n"
     ]
    }
   ],
   "source": [
    "zil.info()"
   ]
  },
  {
   "cell_type": "code",
   "execution_count": 4,
   "id": "e39cbc47-8aab-499d-9f82-c3e3644a624b",
   "metadata": {},
   "outputs": [
    {
     "data": {
      "text/html": [
       "<div>\n",
       "<style scoped>\n",
       "    .dataframe tbody tr th:only-of-type {\n",
       "        vertical-align: middle;\n",
       "    }\n",
       "\n",
       "    .dataframe tbody tr th {\n",
       "        vertical-align: top;\n",
       "    }\n",
       "\n",
       "    .dataframe thead th {\n",
       "        text-align: right;\n",
       "    }\n",
       "</style>\n",
       "<table border=\"1\" class=\"dataframe\">\n",
       "  <thead>\n",
       "    <tr style=\"text-align: right;\">\n",
       "      <th></th>\n",
       "      <th>beds</th>\n",
       "      <th>baths</th>\n",
       "      <th>sqft</th>\n",
       "      <th>tax_value</th>\n",
       "      <th>built</th>\n",
       "      <th>taxes</th>\n",
       "      <th>city</th>\n",
       "      <th>location</th>\n",
       "    </tr>\n",
       "  </thead>\n",
       "  <tbody>\n",
       "    <tr>\n",
       "      <th>6</th>\n",
       "      <td>3.0</td>\n",
       "      <td>4.0</td>\n",
       "      <td>1620.0</td>\n",
       "      <td>847770.0</td>\n",
       "      <td>2011.0</td>\n",
       "      <td>10244.94</td>\n",
       "      <td>6037.0</td>\n",
       "      <td>Los Angeles</td>\n",
       "    </tr>\n",
       "    <tr>\n",
       "      <th>7</th>\n",
       "      <td>3.0</td>\n",
       "      <td>2.0</td>\n",
       "      <td>2077.0</td>\n",
       "      <td>646760.0</td>\n",
       "      <td>1926.0</td>\n",
       "      <td>7924.68</td>\n",
       "      <td>6037.0</td>\n",
       "      <td>Los Angeles</td>\n",
       "    </tr>\n",
       "    <tr>\n",
       "      <th>18</th>\n",
       "      <td>3.0</td>\n",
       "      <td>1.0</td>\n",
       "      <td>1244.0</td>\n",
       "      <td>169471.0</td>\n",
       "      <td>1950.0</td>\n",
       "      <td>2532.88</td>\n",
       "      <td>6037.0</td>\n",
       "      <td>Los Angeles</td>\n",
       "    </tr>\n",
       "    <tr>\n",
       "      <th>19</th>\n",
       "      <td>3.0</td>\n",
       "      <td>2.0</td>\n",
       "      <td>1300.0</td>\n",
       "      <td>233266.0</td>\n",
       "      <td>1950.0</td>\n",
       "      <td>3110.99</td>\n",
       "      <td>6037.0</td>\n",
       "      <td>Los Angeles</td>\n",
       "    </tr>\n",
       "    <tr>\n",
       "      <th>20</th>\n",
       "      <td>3.0</td>\n",
       "      <td>2.0</td>\n",
       "      <td>1222.0</td>\n",
       "      <td>290492.0</td>\n",
       "      <td>1951.0</td>\n",
       "      <td>3870.25</td>\n",
       "      <td>6037.0</td>\n",
       "      <td>Los Angeles</td>\n",
       "    </tr>\n",
       "  </tbody>\n",
       "</table>\n",
       "</div>"
      ],
      "text/plain": [
       "    beds  baths    sqft  tax_value   built     taxes    city     location\n",
       "6    3.0    4.0  1620.0   847770.0  2011.0  10244.94  6037.0  Los Angeles\n",
       "7    3.0    2.0  2077.0   646760.0  1926.0   7924.68  6037.0  Los Angeles\n",
       "18   3.0    1.0  1244.0   169471.0  1950.0   2532.88  6037.0  Los Angeles\n",
       "19   3.0    2.0  1300.0   233266.0  1950.0   3110.99  6037.0  Los Angeles\n",
       "20   3.0    2.0  1222.0   290492.0  1951.0   3870.25  6037.0  Los Angeles"
      ]
     },
     "execution_count": 4,
     "metadata": {},
     "output_type": "execute_result"
    }
   ],
   "source": [
    "zil.head()"
   ]
  },
  {
   "cell_type": "code",
   "execution_count": 5,
   "id": "ab59a171-ef3e-490c-b573-0e4dc3b3f1e3",
   "metadata": {},
   "outputs": [],
   "source": [
    "train, val, test = wrangle.split_data(zil)"
   ]
  },
  {
   "cell_type": "code",
   "execution_count": 6,
   "id": "e39841ec-7674-4fdc-b38a-7cca38999ab5",
   "metadata": {},
   "outputs": [],
   "source": [
    "train, val, test = wrangle.impute_mode(train, val, test, 'built')"
   ]
  },
  {
   "cell_type": "code",
   "execution_count": 7,
   "id": "cb9680d8-c5fb-4b6a-ae76-972665d3c4a1",
   "metadata": {},
   "outputs": [],
   "source": [
    "train = wrangle.feature_engineer(train)\n",
    "val = wrangle.feature_engineer(val)\n",
    "test = wrangle.feature_engineer(test)"
   ]
  },
  {
   "cell_type": "code",
   "execution_count": 8,
   "id": "de589ec7-559d-419d-a023-11a1b8a12892",
   "metadata": {},
   "outputs": [
    {
     "data": {
      "text/html": [
       "<div>\n",
       "<style scoped>\n",
       "    .dataframe tbody tr th:only-of-type {\n",
       "        vertical-align: middle;\n",
       "    }\n",
       "\n",
       "    .dataframe tbody tr th {\n",
       "        vertical-align: top;\n",
       "    }\n",
       "\n",
       "    .dataframe thead th {\n",
       "        text-align: right;\n",
       "    }\n",
       "</style>\n",
       "<table border=\"1\" class=\"dataframe\">\n",
       "  <thead>\n",
       "    <tr style=\"text-align: right;\">\n",
       "      <th></th>\n",
       "      <th>beds</th>\n",
       "      <th>baths</th>\n",
       "      <th>sqft</th>\n",
       "      <th>tax_value</th>\n",
       "      <th>built</th>\n",
       "      <th>taxes</th>\n",
       "      <th>city</th>\n",
       "      <th>location</th>\n",
       "      <th>decade</th>\n",
       "      <th>location_percentile</th>\n",
       "    </tr>\n",
       "  </thead>\n",
       "  <tbody>\n",
       "    <tr>\n",
       "      <th>759032</th>\n",
       "      <td>3.0</td>\n",
       "      <td>2.0</td>\n",
       "      <td>1751.0</td>\n",
       "      <td>146024.0</td>\n",
       "      <td>1938.0</td>\n",
       "      <td>1888.49</td>\n",
       "      <td>6037.0</td>\n",
       "      <td>Los Angeles</td>\n",
       "      <td>1930</td>\n",
       "      <td>1</td>\n",
       "    </tr>\n",
       "    <tr>\n",
       "      <th>1533668</th>\n",
       "      <td>2.0</td>\n",
       "      <td>1.0</td>\n",
       "      <td>1224.0</td>\n",
       "      <td>310023.0</td>\n",
       "      <td>1942.0</td>\n",
       "      <td>3820.29</td>\n",
       "      <td>6037.0</td>\n",
       "      <td>Los Angeles</td>\n",
       "      <td>1940</td>\n",
       "      <td>3</td>\n",
       "    </tr>\n",
       "    <tr>\n",
       "      <th>1070151</th>\n",
       "      <td>5.0</td>\n",
       "      <td>4.0</td>\n",
       "      <td>2501.0</td>\n",
       "      <td>524050.0</td>\n",
       "      <td>1959.0</td>\n",
       "      <td>5767.35</td>\n",
       "      <td>6037.0</td>\n",
       "      <td>Los Angeles</td>\n",
       "      <td>1950</td>\n",
       "      <td>4</td>\n",
       "    </tr>\n",
       "    <tr>\n",
       "      <th>59636</th>\n",
       "      <td>2.0</td>\n",
       "      <td>2.0</td>\n",
       "      <td>1128.0</td>\n",
       "      <td>162970.0</td>\n",
       "      <td>1981.0</td>\n",
       "      <td>2509.52</td>\n",
       "      <td>6037.0</td>\n",
       "      <td>Los Angeles</td>\n",
       "      <td>1980</td>\n",
       "      <td>2</td>\n",
       "    </tr>\n",
       "    <tr>\n",
       "      <th>17435</th>\n",
       "      <td>4.0</td>\n",
       "      <td>4.0</td>\n",
       "      <td>3256.0</td>\n",
       "      <td>667084.0</td>\n",
       "      <td>1987.0</td>\n",
       "      <td>8269.47</td>\n",
       "      <td>6037.0</td>\n",
       "      <td>Los Angeles</td>\n",
       "      <td>1980</td>\n",
       "      <td>4</td>\n",
       "    </tr>\n",
       "  </tbody>\n",
       "</table>\n",
       "</div>"
      ],
      "text/plain": [
       "         beds  baths    sqft  tax_value   built    taxes    city     location  \\\n",
       "759032    3.0    2.0  1751.0   146024.0  1938.0  1888.49  6037.0  Los Angeles   \n",
       "1533668   2.0    1.0  1224.0   310023.0  1942.0  3820.29  6037.0  Los Angeles   \n",
       "1070151   5.0    4.0  2501.0   524050.0  1959.0  5767.35  6037.0  Los Angeles   \n",
       "59636     2.0    2.0  1128.0   162970.0  1981.0  2509.52  6037.0  Los Angeles   \n",
       "17435     4.0    4.0  3256.0   667084.0  1987.0  8269.47  6037.0  Los Angeles   \n",
       "\n",
       "         decade location_percentile  \n",
       "759032     1930                   1  \n",
       "1533668    1940                   3  \n",
       "1070151    1950                   4  \n",
       "59636      1980                   2  \n",
       "17435      1980                   4  "
      ]
     },
     "execution_count": 8,
     "metadata": {},
     "output_type": "execute_result"
    }
   ],
   "source": [
    "train.head()"
   ]
  },
  {
   "cell_type": "code",
   "execution_count": 9,
   "id": "e22333d7-2c96-42a0-bacd-ff9637727103",
   "metadata": {},
   "outputs": [],
   "source": [
    "X_train = train.sqft\n",
    "y_train = train.tax_value\n",
    "X_val = val.sqft\n",
    "y_val = val.tax_value"
   ]
  },
  {
   "cell_type": "markdown",
   "id": "41ad7652-f9c8-4729-b1f9-df058cf7b6c9",
   "metadata": {},
   "source": [
    "#### 2. Fit a linear regression model (ordinary least squares) and compute yhat, predictions of taxvaluedollarcnt using only calculatedfinishedsqft.\n",
    "\n",
    "- Here is some sample code to get you started:\n",
    "- from sklearn.linear_model import LinearRegression\n",
    "- assuming X and y are already defined\n",
    "- model = LinearRegression().fit(X, y)\n",
    "- predictions = model.predict(X)\n",
    "- Modify and add to the code above as necessary for it to work with the zillow dataset."
   ]
  },
  {
   "cell_type": "code",
   "execution_count": 10,
   "id": "4d451d89-990a-475c-b193-0309f7c428e3",
   "metadata": {},
   "outputs": [
    {
     "data": {
      "text/html": [
       "<div>\n",
       "<style scoped>\n",
       "    .dataframe tbody tr th:only-of-type {\n",
       "        vertical-align: middle;\n",
       "    }\n",
       "\n",
       "    .dataframe tbody tr th {\n",
       "        vertical-align: top;\n",
       "    }\n",
       "\n",
       "    .dataframe thead th {\n",
       "        text-align: right;\n",
       "    }\n",
       "</style>\n",
       "<table border=\"1\" class=\"dataframe\">\n",
       "  <thead>\n",
       "    <tr style=\"text-align: right;\">\n",
       "      <th></th>\n",
       "      <th>beds</th>\n",
       "      <th>baths</th>\n",
       "      <th>sqft</th>\n",
       "      <th>tax_value</th>\n",
       "      <th>built</th>\n",
       "      <th>taxes</th>\n",
       "      <th>city</th>\n",
       "      <th>location</th>\n",
       "      <th>decade</th>\n",
       "      <th>location_percentile</th>\n",
       "    </tr>\n",
       "  </thead>\n",
       "  <tbody>\n",
       "    <tr>\n",
       "      <th>759032</th>\n",
       "      <td>3.0</td>\n",
       "      <td>2.0</td>\n",
       "      <td>1751.0</td>\n",
       "      <td>146024.0</td>\n",
       "      <td>1938.0</td>\n",
       "      <td>1888.49</td>\n",
       "      <td>6037.0</td>\n",
       "      <td>Los Angeles</td>\n",
       "      <td>1930</td>\n",
       "      <td>1</td>\n",
       "    </tr>\n",
       "    <tr>\n",
       "      <th>1533668</th>\n",
       "      <td>2.0</td>\n",
       "      <td>1.0</td>\n",
       "      <td>1224.0</td>\n",
       "      <td>310023.0</td>\n",
       "      <td>1942.0</td>\n",
       "      <td>3820.29</td>\n",
       "      <td>6037.0</td>\n",
       "      <td>Los Angeles</td>\n",
       "      <td>1940</td>\n",
       "      <td>3</td>\n",
       "    </tr>\n",
       "    <tr>\n",
       "      <th>1070151</th>\n",
       "      <td>5.0</td>\n",
       "      <td>4.0</td>\n",
       "      <td>2501.0</td>\n",
       "      <td>524050.0</td>\n",
       "      <td>1959.0</td>\n",
       "      <td>5767.35</td>\n",
       "      <td>6037.0</td>\n",
       "      <td>Los Angeles</td>\n",
       "      <td>1950</td>\n",
       "      <td>4</td>\n",
       "    </tr>\n",
       "    <tr>\n",
       "      <th>59636</th>\n",
       "      <td>2.0</td>\n",
       "      <td>2.0</td>\n",
       "      <td>1128.0</td>\n",
       "      <td>162970.0</td>\n",
       "      <td>1981.0</td>\n",
       "      <td>2509.52</td>\n",
       "      <td>6037.0</td>\n",
       "      <td>Los Angeles</td>\n",
       "      <td>1980</td>\n",
       "      <td>2</td>\n",
       "    </tr>\n",
       "    <tr>\n",
       "      <th>17435</th>\n",
       "      <td>4.0</td>\n",
       "      <td>4.0</td>\n",
       "      <td>3256.0</td>\n",
       "      <td>667084.0</td>\n",
       "      <td>1987.0</td>\n",
       "      <td>8269.47</td>\n",
       "      <td>6037.0</td>\n",
       "      <td>Los Angeles</td>\n",
       "      <td>1980</td>\n",
       "      <td>4</td>\n",
       "    </tr>\n",
       "  </tbody>\n",
       "</table>\n",
       "</div>"
      ],
      "text/plain": [
       "         beds  baths    sqft  tax_value   built    taxes    city     location  \\\n",
       "759032    3.0    2.0  1751.0   146024.0  1938.0  1888.49  6037.0  Los Angeles   \n",
       "1533668   2.0    1.0  1224.0   310023.0  1942.0  3820.29  6037.0  Los Angeles   \n",
       "1070151   5.0    4.0  2501.0   524050.0  1959.0  5767.35  6037.0  Los Angeles   \n",
       "59636     2.0    2.0  1128.0   162970.0  1981.0  2509.52  6037.0  Los Angeles   \n",
       "17435     4.0    4.0  3256.0   667084.0  1987.0  8269.47  6037.0  Los Angeles   \n",
       "\n",
       "         decade location_percentile  \n",
       "759032     1930                   1  \n",
       "1533668    1940                   3  \n",
       "1070151    1950                   4  \n",
       "59636      1980                   2  \n",
       "17435      1980                   4  "
      ]
     },
     "execution_count": 10,
     "metadata": {},
     "output_type": "execute_result"
    }
   ],
   "source": [
    "train.head()"
   ]
  },
  {
   "cell_type": "code",
   "execution_count": 11,
   "id": "d3ebcbfc-bdfb-4fb1-a233-5a0769255163",
   "metadata": {},
   "outputs": [
    {
     "data": {
      "text/html": [
       "<div>\n",
       "<style scoped>\n",
       "    .dataframe tbody tr th:only-of-type {\n",
       "        vertical-align: middle;\n",
       "    }\n",
       "\n",
       "    .dataframe tbody tr th {\n",
       "        vertical-align: top;\n",
       "    }\n",
       "\n",
       "    .dataframe thead th {\n",
       "        text-align: right;\n",
       "    }\n",
       "</style>\n",
       "<table border=\"1\" class=\"dataframe\">\n",
       "  <thead>\n",
       "    <tr style=\"text-align: right;\">\n",
       "      <th></th>\n",
       "      <th>X_train</th>\n",
       "      <th>y_train</th>\n",
       "    </tr>\n",
       "  </thead>\n",
       "  <tbody>\n",
       "    <tr>\n",
       "      <th>759032</th>\n",
       "      <td>1751.0</td>\n",
       "      <td>146024.0</td>\n",
       "    </tr>\n",
       "    <tr>\n",
       "      <th>1533668</th>\n",
       "      <td>1224.0</td>\n",
       "      <td>310023.0</td>\n",
       "    </tr>\n",
       "    <tr>\n",
       "      <th>1070151</th>\n",
       "      <td>2501.0</td>\n",
       "      <td>524050.0</td>\n",
       "    </tr>\n",
       "    <tr>\n",
       "      <th>59636</th>\n",
       "      <td>1128.0</td>\n",
       "      <td>162970.0</td>\n",
       "    </tr>\n",
       "    <tr>\n",
       "      <th>17435</th>\n",
       "      <td>3256.0</td>\n",
       "      <td>667084.0</td>\n",
       "    </tr>\n",
       "  </tbody>\n",
       "</table>\n",
       "</div>"
      ],
      "text/plain": [
       "         X_train   y_train\n",
       "759032    1751.0  146024.0\n",
       "1533668   1224.0  310023.0\n",
       "1070151   2501.0  524050.0\n",
       "59636     1128.0  162970.0\n",
       "17435     3256.0  667084.0"
      ]
     },
     "execution_count": 11,
     "metadata": {},
     "output_type": "execute_result"
    }
   ],
   "source": [
    "df = pd.DataFrame({'X_train':X_train, 'y_train':y_train})\n",
    "df.head()"
   ]
  },
  {
   "cell_type": "code",
   "execution_count": 12,
   "id": "44aa9149-a19c-4da2-86a0-621b0e56d2da",
   "metadata": {},
   "outputs": [],
   "source": [
    "mms = MinMaxScaler()\n",
    "df['X_train'] = mms.fit_transform(df[['X_train']])"
   ]
  },
  {
   "cell_type": "code",
   "execution_count": 13,
   "id": "b3aba5fc-b9f7-4b31-a86b-6b7e3b4355a3",
   "metadata": {},
   "outputs": [
    {
     "data": {
      "text/html": [
       "<div>\n",
       "<style scoped>\n",
       "    .dataframe tbody tr th:only-of-type {\n",
       "        vertical-align: middle;\n",
       "    }\n",
       "\n",
       "    .dataframe tbody tr th {\n",
       "        vertical-align: top;\n",
       "    }\n",
       "\n",
       "    .dataframe thead th {\n",
       "        text-align: right;\n",
       "    }\n",
       "</style>\n",
       "<table border=\"1\" class=\"dataframe\">\n",
       "  <thead>\n",
       "    <tr style=\"text-align: right;\">\n",
       "      <th></th>\n",
       "      <th>X_train</th>\n",
       "      <th>y_train</th>\n",
       "    </tr>\n",
       "  </thead>\n",
       "  <tbody>\n",
       "    <tr>\n",
       "      <th>759032</th>\n",
       "      <td>0.513347</td>\n",
       "      <td>146024.0</td>\n",
       "    </tr>\n",
       "    <tr>\n",
       "      <th>1533668</th>\n",
       "      <td>0.358756</td>\n",
       "      <td>310023.0</td>\n",
       "    </tr>\n",
       "    <tr>\n",
       "      <th>1070151</th>\n",
       "      <td>0.733353</td>\n",
       "      <td>524050.0</td>\n",
       "    </tr>\n",
       "    <tr>\n",
       "      <th>59636</th>\n",
       "      <td>0.330595</td>\n",
       "      <td>162970.0</td>\n",
       "    </tr>\n",
       "    <tr>\n",
       "      <th>17435</th>\n",
       "      <td>0.954825</td>\n",
       "      <td>667084.0</td>\n",
       "    </tr>\n",
       "  </tbody>\n",
       "</table>\n",
       "</div>"
      ],
      "text/plain": [
       "          X_train   y_train\n",
       "759032   0.513347  146024.0\n",
       "1533668  0.358756  310023.0\n",
       "1070151  0.733353  524050.0\n",
       "59636    0.330595  162970.0\n",
       "17435    0.954825  667084.0"
      ]
     },
     "execution_count": 13,
     "metadata": {},
     "output_type": "execute_result"
    }
   ],
   "source": [
    "df.head()"
   ]
  },
  {
   "cell_type": "code",
   "execution_count": 14,
   "id": "918aa07e-d50a-4e49-b4ff-c0a63107e756",
   "metadata": {},
   "outputs": [],
   "source": [
    "baseline = df.y_train.mean()\n",
    "df['baseline'] = baseline"
   ]
  },
  {
   "cell_type": "code",
   "execution_count": 15,
   "id": "f3b5bf50-e8c0-433c-80ed-f01e6b23d900",
   "metadata": {},
   "outputs": [],
   "source": [
    "lm = LinearRegression()\n",
    "lm.fit(df[['X_train']], df[['y_train']])\n",
    "df['yhat'] = lm.predict(df[['X_train']])"
   ]
  },
  {
   "cell_type": "code",
   "execution_count": 16,
   "id": "20900b37-6603-4e3c-8d1b-690c51f9b17f",
   "metadata": {},
   "outputs": [
    {
     "data": {
      "text/html": [
       "<div>\n",
       "<style scoped>\n",
       "    .dataframe tbody tr th:only-of-type {\n",
       "        vertical-align: middle;\n",
       "    }\n",
       "\n",
       "    .dataframe tbody tr th {\n",
       "        vertical-align: top;\n",
       "    }\n",
       "\n",
       "    .dataframe thead th {\n",
       "        text-align: right;\n",
       "    }\n",
       "</style>\n",
       "<table border=\"1\" class=\"dataframe\">\n",
       "  <thead>\n",
       "    <tr style=\"text-align: right;\">\n",
       "      <th></th>\n",
       "      <th>X_train</th>\n",
       "      <th>y_train</th>\n",
       "      <th>baseline</th>\n",
       "      <th>yhat</th>\n",
       "    </tr>\n",
       "  </thead>\n",
       "  <tbody>\n",
       "    <tr>\n",
       "      <th>759032</th>\n",
       "      <td>0.513347</td>\n",
       "      <td>146024.0</td>\n",
       "      <td>327901.278059</td>\n",
       "      <td>342412.801210</td>\n",
       "    </tr>\n",
       "    <tr>\n",
       "      <th>1533668</th>\n",
       "      <td>0.358756</td>\n",
       "      <td>310023.0</td>\n",
       "      <td>327901.278059</td>\n",
       "      <td>263744.391693</td>\n",
       "    </tr>\n",
       "    <tr>\n",
       "      <th>1070151</th>\n",
       "      <td>0.733353</td>\n",
       "      <td>524050.0</td>\n",
       "      <td>327901.278059</td>\n",
       "      <td>454369.740751</td>\n",
       "    </tr>\n",
       "    <tr>\n",
       "      <th>59636</th>\n",
       "      <td>0.330595</td>\n",
       "      <td>162970.0</td>\n",
       "      <td>327901.278059</td>\n",
       "      <td>249413.903432</td>\n",
       "    </tr>\n",
       "    <tr>\n",
       "      <th>17435</th>\n",
       "      <td>0.954825</td>\n",
       "      <td>667084.0</td>\n",
       "      <td>327901.278059</td>\n",
       "      <td>567073.059888</td>\n",
       "    </tr>\n",
       "  </tbody>\n",
       "</table>\n",
       "</div>"
      ],
      "text/plain": [
       "          X_train   y_train       baseline           yhat\n",
       "759032   0.513347  146024.0  327901.278059  342412.801210\n",
       "1533668  0.358756  310023.0  327901.278059  263744.391693\n",
       "1070151  0.733353  524050.0  327901.278059  454369.740751\n",
       "59636    0.330595  162970.0  327901.278059  249413.903432\n",
       "17435    0.954825  667084.0  327901.278059  567073.059888"
      ]
     },
     "execution_count": 16,
     "metadata": {},
     "output_type": "execute_result"
    }
   ],
   "source": [
    "df.head()"
   ]
  },
  {
   "cell_type": "markdown",
   "id": "b19e11c7-350e-4323-979d-ffeaff2d57e6",
   "metadata": {},
   "source": [
    "#### 3. Plot the residuals for the linear regression model that you made."
   ]
  },
  {
   "cell_type": "code",
   "execution_count": 17,
   "id": "d9f308e6-b7ab-421b-92c7-b269cde16286",
   "metadata": {},
   "outputs": [],
   "source": [
    "df['baseline_residual'] = df.y_train - df.baseline\n",
    "df['residual'] = df.y_train-df.yhat"
   ]
  },
  {
   "cell_type": "code",
   "execution_count": 18,
   "id": "f919717c-1f5d-45b6-94f8-32d57a158d9a",
   "metadata": {},
   "outputs": [
    {
     "data": {
      "text/html": [
       "<div>\n",
       "<style scoped>\n",
       "    .dataframe tbody tr th:only-of-type {\n",
       "        vertical-align: middle;\n",
       "    }\n",
       "\n",
       "    .dataframe tbody tr th {\n",
       "        vertical-align: top;\n",
       "    }\n",
       "\n",
       "    .dataframe thead th {\n",
       "        text-align: right;\n",
       "    }\n",
       "</style>\n",
       "<table border=\"1\" class=\"dataframe\">\n",
       "  <thead>\n",
       "    <tr style=\"text-align: right;\">\n",
       "      <th></th>\n",
       "      <th>X_train</th>\n",
       "      <th>y_train</th>\n",
       "      <th>baseline</th>\n",
       "      <th>yhat</th>\n",
       "      <th>baseline_residual</th>\n",
       "      <th>residual</th>\n",
       "    </tr>\n",
       "  </thead>\n",
       "  <tbody>\n",
       "    <tr>\n",
       "      <th>759032</th>\n",
       "      <td>0.513347</td>\n",
       "      <td>146024.0</td>\n",
       "      <td>327901.278059</td>\n",
       "      <td>342412.801210</td>\n",
       "      <td>-181877.278059</td>\n",
       "      <td>-196388.801210</td>\n",
       "    </tr>\n",
       "    <tr>\n",
       "      <th>1533668</th>\n",
       "      <td>0.358756</td>\n",
       "      <td>310023.0</td>\n",
       "      <td>327901.278059</td>\n",
       "      <td>263744.391693</td>\n",
       "      <td>-17878.278059</td>\n",
       "      <td>46278.608307</td>\n",
       "    </tr>\n",
       "    <tr>\n",
       "      <th>1070151</th>\n",
       "      <td>0.733353</td>\n",
       "      <td>524050.0</td>\n",
       "      <td>327901.278059</td>\n",
       "      <td>454369.740751</td>\n",
       "      <td>196148.721941</td>\n",
       "      <td>69680.259249</td>\n",
       "    </tr>\n",
       "    <tr>\n",
       "      <th>59636</th>\n",
       "      <td>0.330595</td>\n",
       "      <td>162970.0</td>\n",
       "      <td>327901.278059</td>\n",
       "      <td>249413.903432</td>\n",
       "      <td>-164931.278059</td>\n",
       "      <td>-86443.903432</td>\n",
       "    </tr>\n",
       "    <tr>\n",
       "      <th>17435</th>\n",
       "      <td>0.954825</td>\n",
       "      <td>667084.0</td>\n",
       "      <td>327901.278059</td>\n",
       "      <td>567073.059888</td>\n",
       "      <td>339182.721941</td>\n",
       "      <td>100010.940112</td>\n",
       "    </tr>\n",
       "  </tbody>\n",
       "</table>\n",
       "</div>"
      ],
      "text/plain": [
       "          X_train   y_train       baseline           yhat  baseline_residual  \\\n",
       "759032   0.513347  146024.0  327901.278059  342412.801210     -181877.278059   \n",
       "1533668  0.358756  310023.0  327901.278059  263744.391693      -17878.278059   \n",
       "1070151  0.733353  524050.0  327901.278059  454369.740751      196148.721941   \n",
       "59636    0.330595  162970.0  327901.278059  249413.903432     -164931.278059   \n",
       "17435    0.954825  667084.0  327901.278059  567073.059888      339182.721941   \n",
       "\n",
       "              residual  \n",
       "759032  -196388.801210  \n",
       "1533668   46278.608307  \n",
       "1070151   69680.259249  \n",
       "59636    -86443.903432  \n",
       "17435    100010.940112  "
      ]
     },
     "execution_count": 18,
     "metadata": {},
     "output_type": "execute_result"
    }
   ],
   "source": [
    "df.head()"
   ]
  },
  {
   "cell_type": "code",
   "execution_count": 19,
   "id": "1d7c54e2-d5b4-40db-b8e3-00fcf2c1cd2c",
   "metadata": {},
   "outputs": [
    {
     "data": {
      "image/png": "[encoded data removed]",
      "text/plain": [
       "<Figure size 432x288 with 1 Axes>"
      ]
     },
     "metadata": {},
     "output_type": "display_data"
    }
   ],
   "source": [
    "sns.scatterplot(data=df, x=df.y_train, y=df.residual)\n",
    "plt.xlabel('x = tax_value')\n",
    "plt.ylabel('y = residuals')\n",
    "plt.title('OLS linear model residuals')\n",
    "plt.show()"
   ]
  },
  {
   "cell_type": "markdown",
   "id": "f7c7dcf1-3dc2-461c-8c8d-ed0b67ca4cf2",
   "metadata": {},
   "source": [
    "#### 4. Calculate the below for the model\n",
    "- sum of squared errors\n",
    "- mean squared error\n",
    "- root mean squared error\n",
    "- explained sum of squares\n",
    "- total sum of squares"
   ]
  },
  {
   "cell_type": "code",
   "execution_count": 20,
   "id": "b97b1622-4515-4124-b813-3603c855f77c",
   "metadata": {},
   "outputs": [],
   "source": [
    "# did both together below"
   ]
  },
  {
   "cell_type": "markdown",
   "id": "5e012176-b17b-4ef8-bb56-6101a5f2c0ed",
   "metadata": {},
   "source": [
    "#### 5. Calculate the below for the baseline model\n",
    "- sum of squared errors\n",
    "- mean squared error\n",
    "- root mean squared error"
   ]
  },
  {
   "cell_type": "code",
   "execution_count": 21,
   "id": "4268eace-3e71-41b9-baff-f97d3c2c2d23",
   "metadata": {},
   "outputs": [
    {
     "data": {
      "text/html": [
       "<div>\n",
       "<style scoped>\n",
       "    .dataframe tbody tr th:only-of-type {\n",
       "        vertical-align: middle;\n",
       "    }\n",
       "\n",
       "    .dataframe tbody tr th {\n",
       "        vertical-align: top;\n",
       "    }\n",
       "\n",
       "    .dataframe thead th {\n",
       "        text-align: right;\n",
       "    }\n",
       "</style>\n",
       "<table border=\"1\" class=\"dataframe\">\n",
       "  <thead>\n",
       "    <tr style=\"text-align: right;\">\n",
       "      <th></th>\n",
       "      <th>X_train</th>\n",
       "      <th>y_train</th>\n",
       "      <th>baseline</th>\n",
       "      <th>yhat</th>\n",
       "      <th>baseline_residual</th>\n",
       "      <th>residual</th>\n",
       "    </tr>\n",
       "  </thead>\n",
       "  <tbody>\n",
       "    <tr>\n",
       "      <th>759032</th>\n",
       "      <td>0.513347</td>\n",
       "      <td>146024.0</td>\n",
       "      <td>327901.278059</td>\n",
       "      <td>342412.801210</td>\n",
       "      <td>-181877.278059</td>\n",
       "      <td>-196388.801210</td>\n",
       "    </tr>\n",
       "    <tr>\n",
       "      <th>1533668</th>\n",
       "      <td>0.358756</td>\n",
       "      <td>310023.0</td>\n",
       "      <td>327901.278059</td>\n",
       "      <td>263744.391693</td>\n",
       "      <td>-17878.278059</td>\n",
       "      <td>46278.608307</td>\n",
       "    </tr>\n",
       "    <tr>\n",
       "      <th>1070151</th>\n",
       "      <td>0.733353</td>\n",
       "      <td>524050.0</td>\n",
       "      <td>327901.278059</td>\n",
       "      <td>454369.740751</td>\n",
       "      <td>196148.721941</td>\n",
       "      <td>69680.259249</td>\n",
       "    </tr>\n",
       "    <tr>\n",
       "      <th>59636</th>\n",
       "      <td>0.330595</td>\n",
       "      <td>162970.0</td>\n",
       "      <td>327901.278059</td>\n",
       "      <td>249413.903432</td>\n",
       "      <td>-164931.278059</td>\n",
       "      <td>-86443.903432</td>\n",
       "    </tr>\n",
       "    <tr>\n",
       "      <th>17435</th>\n",
       "      <td>0.954825</td>\n",
       "      <td>667084.0</td>\n",
       "      <td>327901.278059</td>\n",
       "      <td>567073.059888</td>\n",
       "      <td>339182.721941</td>\n",
       "      <td>100010.940112</td>\n",
       "    </tr>\n",
       "  </tbody>\n",
       "</table>\n",
       "</div>"
      ],
      "text/plain": [
       "          X_train   y_train       baseline           yhat  baseline_residual  \\\n",
       "759032   0.513347  146024.0  327901.278059  342412.801210     -181877.278059   \n",
       "1533668  0.358756  310023.0  327901.278059  263744.391693      -17878.278059   \n",
       "1070151  0.733353  524050.0  327901.278059  454369.740751      196148.721941   \n",
       "59636    0.330595  162970.0  327901.278059  249413.903432     -164931.278059   \n",
       "17435    0.954825  667084.0  327901.278059  567073.059888      339182.721941   \n",
       "\n",
       "              residual  \n",
       "759032  -196388.801210  \n",
       "1533668   46278.608307  \n",
       "1070151   69680.259249  \n",
       "59636    -86443.903432  \n",
       "17435    100010.940112  "
      ]
     },
     "execution_count": 21,
     "metadata": {},
     "output_type": "execute_result"
    }
   ],
   "source": [
    "df.head()"
   ]
  },
  {
   "cell_type": "code",
   "execution_count": 22,
   "id": "9fb6b537-90b0-4c26-af6f-a6d34b2cb1c4",
   "metadata": {},
   "outputs": [
    {
     "data": {
      "text/plain": [
       "(39597017485.41761, 32497233201.989403)"
      ]
     },
     "execution_count": 22,
     "metadata": {},
     "output_type": "execute_result"
    }
   ],
   "source": [
    "MSE_baseline = mean_squared_error(df.y_train, df.baseline)\n",
    "MSE = mean_squared_error(df.y_train, df.yhat)\n",
    "MSE_baseline, MSE"
   ]
  },
  {
   "cell_type": "code",
   "execution_count": 23,
   "id": "27f92ab7-e0a9-45ae-8534-07deaa172c9f",
   "metadata": {},
   "outputs": [
    {
     "data": {
      "text/plain": [
       "(4.407825155125981e+16, 3.617497758069174e+16)"
      ]
     },
     "execution_count": 23,
     "metadata": {},
     "output_type": "execute_result"
    }
   ],
   "source": [
    "SSE_baseline = MSE_baseline*len(df)\n",
    "SSE = MSE*len(df)\n",
    "SSE_baseline, SSE"
   ]
  },
  {
   "cell_type": "code",
   "execution_count": 24,
   "id": "dd764432-0fbf-4570-9a45-8f8ddcf6b5ea",
   "metadata": {},
   "outputs": [
    {
     "data": {
      "text/plain": [
       "(198989.99343036726, 180269.88989287536)"
      ]
     },
     "execution_count": 24,
     "metadata": {},
     "output_type": "execute_result"
    }
   ],
   "source": [
    "RMSE_baseline = mean_squared_error(df.y_train, df.baseline, squared=False)\n",
    "RMSE = mean_squared_error(df.y_train, df.yhat, squared=False)\n",
    "RMSE_baseline, RMSE"
   ]
  },
  {
   "cell_type": "code",
   "execution_count": 25,
   "id": "eac1e148-f9a6-4348-98f1-f29cd264c4c2",
   "metadata": {},
   "outputs": [
    {
     "data": {
      "text/plain": [
       "7903273970570425.0"
      ]
     },
     "execution_count": 25,
     "metadata": {},
     "output_type": "execute_result"
    }
   ],
   "source": [
    "EES = ((df.y_train.mean() - df.yhat)**2).sum()\n",
    "EES"
   ]
  },
  {
   "cell_type": "code",
   "execution_count": 26,
   "id": "a6f2466f-7aee-4563-ac47-23a9143d4d2c",
   "metadata": {},
   "outputs": [
    {
     "data": {
      "text/plain": [
       "4.407825155125981e+16"
      ]
     },
     "execution_count": 26,
     "metadata": {},
     "output_type": "execute_result"
    }
   ],
   "source": [
    "TSS = SSE_baseline\n",
    "TSS"
   ]
  },
  {
   "cell_type": "markdown",
   "id": "242f4f01-8be6-47df-b769-2764cba11f63",
   "metadata": {},
   "source": [
    "#### 6. Write python code that compares the sum of squared errors for your model against the sum of squared errors for the baseline model and outputs whether or not your model performs better than the baseline model."
   ]
  },
  {
   "cell_type": "code",
   "execution_count": 27,
   "id": "cb658949-7d7b-468e-b71d-ad700c0d2494",
   "metadata": {},
   "outputs": [
    {
     "name": "stdout",
     "output_type": "stream",
     "text": [
      "The model performs better than the baseline.\n"
     ]
    }
   ],
   "source": [
    "if SSE < SSE_baseline:\n",
    "    print(f'The model performs better than the baseline.')\n",
    "else:\n",
    "    print('The baseline performs better than the model.')"
   ]
  },
  {
   "cell_type": "markdown",
   "id": "1ec87356-8da0-4134-a590-2b92e474fce0",
   "metadata": {},
   "source": [
    "#### 7. What is the amount of variance explained in your model?"
   ]
  },
  {
   "cell_type": "code",
   "execution_count": 28,
   "id": "bfe7267f-f080-4c36-a654-70229947f0f4",
   "metadata": {},
   "outputs": [
    {
     "data": {
      "text/plain": [
       "(0.0, 0.17930098614227308)"
      ]
     },
     "execution_count": 28,
     "metadata": {},
     "output_type": "execute_result"
    }
   ],
   "source": [
    "r2_baseline = r2_score(df.y_train, df.baseline)\n",
    "r2 = r2_score(df.y_train, df.yhat)\n",
    "r2_baseline, r2"
   ]
  },
  {
   "cell_type": "markdown",
   "id": "a4e480d3-6f74-4016-837f-51cc354bb8ab",
   "metadata": {},
   "source": [
    "#### 8. Is your model better than the baseline model?"
   ]
  },
  {
   "cell_type": "code",
   "execution_count": 29,
   "id": "72cc829c-fc90-4e17-b5c6-4c36ba7a3a2a",
   "metadata": {},
   "outputs": [],
   "source": [
    "# BARELY"
   ]
  },
  {
   "cell_type": "markdown",
   "id": "9dfa0534-3952-4ddd-8708-466cf10b739e",
   "metadata": {},
   "source": [
    "#### 9. Create a file named evaluate.py that contains the following functions.\n",
    "- plot_residuals(y, yhat): creates a residual plot\n",
    "- regression_errors(y, yhat): returns the following values:\n",
    "    - sum of squared errors (SSE)\n",
    "    - explained sum of squares (ESS)\n",
    "    - total sum of squares (TSS)\n",
    "    - mean squared error (MSE)\n",
    "    - root mean squared error (RMSE)\n",
    "- baseline_mean_errors(y): computes the SSE, MSE, and RMSE for the baseline model\n",
    "- better_than_baseline(y, yhat): returns true if your model performs better than the baseline, otherwise false"
   ]
  },
  {
   "cell_type": "code",
   "execution_count": 30,
   "id": "6bb8fcd6-897e-449a-b316-c824c66469cf",
   "metadata": {},
   "outputs": [],
   "source": [
    "import evaluate"
   ]
  },
  {
   "cell_type": "code",
   "execution_count": 31,
   "id": "3e972dce-c014-418c-b555-56543a9faff6",
   "metadata": {},
   "outputs": [
    {
     "data": {
      "image/png": "[encoded data removed]",
      "text/plain": [
       "<Figure size 432x288 with 1 Axes>"
      ]
     },
     "metadata": {},
     "output_type": "display_data"
    }
   ],
   "source": [
    "evaluate.plot_residuals(df.y_train, df.yhat)"
   ]
  },
  {
   "cell_type": "code",
   "execution_count": 32,
   "id": "24f8dcb6-c506-48c2-be6b-a1950a8a1bdc",
   "metadata": {},
   "outputs": [
    {
     "data": {
      "text/plain": [
       "(32497233201.989403,\n",
       " 3.617497758069174e+16,\n",
       " 180269.88989287536,\n",
       " 4.407825155125981e+16,\n",
       " 7903273970568064.0)"
      ]
     },
     "execution_count": 32,
     "metadata": {},
     "output_type": "execute_result"
    }
   ],
   "source": [
    "MSE, SSE, RMSE, TSS, EES = evaluate.regression_errors(df.y_train, df.yhat)\n",
    "MSE, SSE, RMSE, TSS, EES "
   ]
  },
  {
   "cell_type": "code",
   "execution_count": 33,
   "id": "0f95d9c1-01bd-4924-8e67-945d0ec7d72d",
   "metadata": {},
   "outputs": [
    {
     "data": {
      "text/plain": [
       "(39597017485.41761, 4.407825155125981e+16, 198989.99343036726)"
      ]
     },
     "execution_count": 33,
     "metadata": {},
     "output_type": "execute_result"
    }
   ],
   "source": [
    "MSE, SSE, RMSE = evaluate.baseline_mean_errors(df.y_train)\n",
    "MSE, SSE, RMSE"
   ]
  },
  {
   "cell_type": "code",
   "execution_count": 34,
   "id": "e1ed9ab3-0a1f-428c-846d-85316d27f6ff",
   "metadata": {},
   "outputs": [
    {
     "name": "stdout",
     "output_type": "stream",
     "text": [
      "The model SSE performs better than the baseline.\n",
      "            Baseline SSE: 4.407825155125981e+16\n",
      "            Model SSE: 3.617497758069174e+16\n",
      "\n",
      "The model RMSE performs better than the baseline.\n",
      "            Baseline RMSE: 198989.99343036726\n",
      "            Model RMSE: 180269.88989287536\n",
      "\n",
      "The model R2 performs better than the baseline.\n",
      "            Baseline R2: 0.0\n",
      "            Model R2: 0.17930098614227308\n"
     ]
    }
   ],
   "source": [
    "evaluate.better_than_baseline(df.y_train, df.yhat)"
   ]
  },
  {
   "cell_type": "code",
   "execution_count": 33,
   "id": "b77ba0d9-d76e-44bc-bf05-98dfc613a136",
   "metadata": {},
   "outputs": [
    {
     "data": {
      "text/plain": [
       "Index(['beds', 'baths', 'sqft', 'tax_value', 'built', 'taxes', 'city',\n",
       "       'location'],\n",
       "      dtype='object')"
      ]
     },
     "execution_count": 33,
     "metadata": {},
     "output_type": "execute_result"
    }
   ],
   "source": [
    "train.columns"
   ]
  },
  {
   "cell_type": "code",
   "execution_count": 45,
   "id": "f9b3071b-a562-4bad-adf2-cd7773ee397c",
   "metadata": {},
   "outputs": [],
   "source": [
    "# Try scaling X_train:\n",
    "X_train = train[['sqft', 'taxes', 'decade', 'location_percentile', 'city']]\n",
    "X_val = val[['sqft', 'taxes', 'decade', 'location_percentile', 'city']]\n",
    "y_val = val.tax_value"
   ]
  },
  {
   "cell_type": "code",
   "execution_count": 36,
   "id": "0f379f0c-df47-4ccb-94fa-bcb6fac69d44",
   "metadata": {},
   "outputs": [],
   "source": [
    "scaler = MinMaxScaler()\n",
    "X_train_scaled = scaler.fit_transform(X_train)\n",
    "X_val_scaled = scaler.transform(X_val)"
   ]
  },
  {
   "cell_type": "code",
   "execution_count": 37,
   "id": "4df1c0ff-82f0-4909-acfc-f2fa2570e080",
   "metadata": {},
   "outputs": [
    {
     "data": {
      "text/html": [
       "<div>\n",
       "<style scoped>\n",
       "    .dataframe tbody tr th:only-of-type {\n",
       "        vertical-align: middle;\n",
       "    }\n",
       "\n",
       "    .dataframe tbody tr th {\n",
       "        vertical-align: top;\n",
       "    }\n",
       "\n",
       "    .dataframe thead th {\n",
       "        text-align: right;\n",
       "    }\n",
       "</style>\n",
       "<table border=\"1\" class=\"dataframe\">\n",
       "  <thead>\n",
       "    <tr style=\"text-align: right;\">\n",
       "      <th></th>\n",
       "      <th>X_train</th>\n",
       "      <th>y_train</th>\n",
       "      <th>baseline</th>\n",
       "      <th>yhat</th>\n",
       "      <th>baseline_residual</th>\n",
       "      <th>residual</th>\n",
       "    </tr>\n",
       "  </thead>\n",
       "  <tbody>\n",
       "    <tr>\n",
       "      <th>759032</th>\n",
       "      <td>0.513347</td>\n",
       "      <td>146024.0</td>\n",
       "      <td>327901.278059</td>\n",
       "      <td>342412.801210</td>\n",
       "      <td>-181877.278059</td>\n",
       "      <td>-196388.801210</td>\n",
       "    </tr>\n",
       "    <tr>\n",
       "      <th>1533668</th>\n",
       "      <td>0.358756</td>\n",
       "      <td>310023.0</td>\n",
       "      <td>327901.278059</td>\n",
       "      <td>263744.391693</td>\n",
       "      <td>-17878.278059</td>\n",
       "      <td>46278.608307</td>\n",
       "    </tr>\n",
       "    <tr>\n",
       "      <th>1070151</th>\n",
       "      <td>0.733353</td>\n",
       "      <td>524050.0</td>\n",
       "      <td>327901.278059</td>\n",
       "      <td>454369.740751</td>\n",
       "      <td>196148.721941</td>\n",
       "      <td>69680.259249</td>\n",
       "    </tr>\n",
       "    <tr>\n",
       "      <th>59636</th>\n",
       "      <td>0.330595</td>\n",
       "      <td>162970.0</td>\n",
       "      <td>327901.278059</td>\n",
       "      <td>249413.903432</td>\n",
       "      <td>-164931.278059</td>\n",
       "      <td>-86443.903432</td>\n",
       "    </tr>\n",
       "    <tr>\n",
       "      <th>17435</th>\n",
       "      <td>0.954825</td>\n",
       "      <td>667084.0</td>\n",
       "      <td>327901.278059</td>\n",
       "      <td>567073.059888</td>\n",
       "      <td>339182.721941</td>\n",
       "      <td>100010.940112</td>\n",
       "    </tr>\n",
       "  </tbody>\n",
       "</table>\n",
       "</div>"
      ],
      "text/plain": [
       "          X_train   y_train       baseline           yhat  baseline_residual  \\\n",
       "759032   0.513347  146024.0  327901.278059  342412.801210     -181877.278059   \n",
       "1533668  0.358756  310023.0  327901.278059  263744.391693      -17878.278059   \n",
       "1070151  0.733353  524050.0  327901.278059  454369.740751      196148.721941   \n",
       "59636    0.330595  162970.0  327901.278059  249413.903432     -164931.278059   \n",
       "17435    0.954825  667084.0  327901.278059  567073.059888      339182.721941   \n",
       "\n",
       "              residual  \n",
       "759032  -196388.801210  \n",
       "1533668   46278.608307  \n",
       "1070151   69680.259249  \n",
       "59636    -86443.903432  \n",
       "17435    100010.940112  "
      ]
     },
     "execution_count": 37,
     "metadata": {},
     "output_type": "execute_result"
    }
   ],
   "source": [
    "df.head()"
   ]
  },
  {
   "cell_type": "code",
   "execution_count": 39,
   "id": "fdf2d1ee-ce1f-41e5-bd7a-085faa982f14",
   "metadata": {},
   "outputs": [],
   "source": [
    "lm2 = LinearRegression()\n",
    "lm.fit(X_train_scaled, y_train)\n",
    "df['yhat_scaled'] = lm.predict(X_train_scaled)"
   ]
  },
  {
   "cell_type": "code",
   "execution_count": 40,
   "id": "99d4db38-d972-45d8-bc0c-c58bdd2a606c",
   "metadata": {},
   "outputs": [
    {
     "data": {
      "image/png": "[encoded data removed]",
      "text/plain": [
       "<Figure size 432x288 with 1 Axes>"
      ]
     },
     "metadata": {},
     "output_type": "display_data"
    }
   ],
   "source": [
    "evaluate.plot_residuals(df.y_train, df.yhat_scaled)"
   ]
  },
  {
   "cell_type": "code",
   "execution_count": 43,
   "id": "b2409135-f18f-4333-b1b9-fcdd28a23489",
   "metadata": {},
   "outputs": [],
   "source": [
    "yhat_val_scaled = lm.predict(X_val_scaled)"
   ]
  },
  {
   "cell_type": "code",
   "execution_count": 47,
   "id": "72e3fef8-ed2a-471a-9584-5ae7e91f5c58",
   "metadata": {},
   "outputs": [
    {
     "name": "stdout",
     "output_type": "stream",
     "text": [
      "The model SSE performs better than the baseline.\n",
      "            Baseline SSE: 4.407825155125981e+16\n",
      "            Model SSE: 2012754715388001.8\n",
      "\n",
      "The model RMSE performs better than the baseline.\n",
      "            Baseline RMSE: 198989.99343036726\n",
      "            Model RMSE: 42522.07846416965\n",
      "\n",
      "The model R2 performs better than the baseline.\n",
      "            Baseline R2: 0.0\n",
      "            Model R2: 0.9543367841383791\n"
     ]
    }
   ],
   "source": [
    "evaluate.better_than_baseline(y_train, df.yhat_scaled)"
   ]
  },
  {
   "cell_type": "code",
   "execution_count": 46,
   "id": "98d0be5a-d989-4d2e-9dcb-90ba7d95df7a",
   "metadata": {},
   "outputs": [
    {
     "name": "stdout",
     "output_type": "stream",
     "text": [
      "The model SSE performs better than the baseline.\n",
      "            Baseline SSE: 1.4642571794678256e+16\n",
      "            Model SSE: 681510386524704.4\n",
      "\n",
      "The model RMSE performs better than the baseline.\n",
      "            Baseline RMSE: 198649.90722683715\n",
      "            Model RMSE: 42856.42350309032\n",
      "\n",
      "The model R2 performs better than the baseline.\n",
      "            Baseline R2: 0.0\n",
      "            Model R2: 0.9534569202677637\n"
     ]
    }
   ],
   "source": [
    "evaluate.better_than_baseline(y_val, yhat_val_scaled)"
   ]
  },
  {
   "cell_type": "code",
   "execution_count": null,
   "id": "90b46e26-7398-4462-92ee-8fc2b5c49fd2",
   "metadata": {},
   "outputs": [],
   "source": []
  }
 ],
 "metadata": {
  "kernelspec": {
   "display_name": "Python 3 (ipykernel)",
   "language": "python",
   "name": "python3"
  },
  "language_info": {
   "codemirror_mode": {
    "name": "ipython",
    "version": 3
   },
   "file_extension": ".py",
   "mimetype": "text/x-python",
   "name": "python",
   "nbconvert_exporter": "python",
   "pygments_lexer": "ipython3",
   "version": "3.9.12"
  }
 },
 "nbformat": 4,
 "nbformat_minor": 5
}
