{
 "cells": [
  {
   "cell_type": "code",
   "execution_count": null,
   "id": "71fd9e59-fdf7-423d-8421-4f603d494660",
   "metadata": {
    "tags": []
   },
   "outputs": [],
   "source": [
    "# standard ds imports\n",
    "import numpy as np\n",
    "import pandas as pd\n",
    "import matplotlib.pyplot as plt\n",
    "\n",
    "# for statistical analysis\n",
    "import scipy.stats as stats\n",
    "\n",
    "# for wrangling\n",
    "import wrangle\n",
    "import explore\n",
    "\n",
    "# for scaling\n",
    "from sklearn.preprocessing import MinMaxScaler, StandardScaler, RobustScaler, QuantileTransformer\n",
    "\n",
    "# for feature selection verification and evaluation \n",
    "from sklearn.metrics import r2_score, mean_squared_error, explained_variance_score\n",
    "from sklearn.feature_selection import SelectKBest, RFE, f_regression, SequentialFeatureSelector\n",
    "from sklearn.linear_model import LinearRegression, LassoLars, TweedieRegressor\n",
    "from sklearn.preprocessing import PolynomialFeatures"
   ]
  },
  {
   "cell_type": "markdown",
   "id": "8f3c7ea7-7a7c-40c8-8308-81a560b696d9",
   "metadata": {},
   "source": [
    "#### 1. Select a dataset with a continuous target variable."
   ]
  },
  {
   "cell_type": "code",
   "execution_count": 2,
   "id": "2ccd7841-91c4-4ee3-8705-c65768752200",
   "metadata": {},
   "outputs": [],
   "source": [
    "zil = wrangle.wrangle_zillow()"
   ]
  },
  {
   "cell_type": "markdown",
   "id": "3c0a0f44-2cfc-4a8a-be40-0d16acee3a5e",
   "metadata": {},
   "source": [
    "#### 2. Be sure your data is prepared (no missing values, numeric datatypes) and split into samples."
   ]
  },
  {
   "cell_type": "code",
   "execution_count": 3,
   "id": "b8d3b320-3246-4e4b-84f1-7883fbbf4bfc",
   "metadata": {},
   "outputs": [],
   "source": [
    "train, val, test = wrangle.split_data(zil)"
   ]
  },
  {
   "cell_type": "code",
   "execution_count": 4,
   "id": "793bfd1e-c9cb-4f1a-9c9c-161a2a45b768",
   "metadata": {},
   "outputs": [],
   "source": [
    "train, val, test = wrangle.impute_mode(train, val, test, 'built')"
   ]
  },
  {
   "cell_type": "code",
   "execution_count": 6,
   "id": "734154b9-f7c9-447f-8116-d6371b14db42",
   "metadata": {},
   "outputs": [],
   "source": [
    "train = wrangle.feature_engineer(train)\n",
    "val = wrangle.feature_engineer(val)\n",
    "test = wrangle.feature_engineer(test)"
   ]
  },
  {
   "cell_type": "code",
   "execution_count": 7,
   "id": "751946e7-29c5-46b8-ba9c-15ce40cb3a62",
   "metadata": {},
   "outputs": [
    {
     "name": "stdout",
     "output_type": "stream",
     "text": [
      "<class 'pandas.core.frame.DataFrame'>\n",
      "Int64Index: 1113171 entries, 759032 to 843328\n",
      "Data columns (total 12 columns):\n",
      " #   Column               Non-Null Count    Dtype  \n",
      "---  ------               --------------    -----  \n",
      " 0   beds                 1113171 non-null  float64\n",
      " 1   baths                1113171 non-null  float64\n",
      " 2   sqft                 1113171 non-null  float64\n",
      " 3   tax_value            1113171 non-null  float64\n",
      " 4   built                1113171 non-null  float64\n",
      " 5   taxes                1113171 non-null  float64\n",
      " 6   location             1113171 non-null  object \n",
      " 7   los_angeles          1113171 non-null  int64  \n",
      " 8   orange               1113171 non-null  int64  \n",
      " 9   ventura              1113171 non-null  int64  \n",
      " 10  decade               1113171 non-null  int64  \n",
      " 11  location_percentile  1113171 non-null  int64  \n",
      "dtypes: float64(6), int64(5), object(1)\n",
      "memory usage: 110.4+ MB\n"
     ]
    }
   ],
   "source": [
    "train.info()"
   ]
  },
  {
   "cell_type": "code",
   "execution_count": 8,
   "id": "c39003a3-8a6e-4e11-b4f2-f22ec3f47e1f",
   "metadata": {},
   "outputs": [],
   "source": [
    "cols = train.drop(columns=['location', 'tax_value']).columns.tolist()"
   ]
  },
  {
   "cell_type": "code",
   "execution_count": 9,
   "id": "6371ce5e-c7ec-4c63-a3c9-a40ec96c5d76",
   "metadata": {},
   "outputs": [],
   "source": [
    "train_scaled, val_scaled, test_scaled = wrangle.scale_data(train, val, test, cols)"
   ]
  },
  {
   "cell_type": "code",
   "execution_count": 10,
   "id": "6514151b-96e4-4fa6-80ab-7ec220a0ac81",
   "metadata": {},
   "outputs": [],
   "source": [
    "X_train = train_scaled.drop(columns=['location', 'tax_value'])\n",
    "X_val = val_scaled.drop(columns=['location', 'tax_value'])\n",
    "X_test = test_scaled.drop(columns=['location', 'tax_value'])"
   ]
  },
  {
   "cell_type": "code",
   "execution_count": 11,
   "id": "17cfd5bf-ac7b-4507-9c4b-202fa72dd7e8",
   "metadata": {},
   "outputs": [],
   "source": [
    "y_train = train.tax_value\n",
    "y_val = val.tax_value\n",
    "y_test = test.tax_value"
   ]
  },
  {
   "cell_type": "code",
   "execution_count": 12,
   "id": "a6876604-cb9d-4efa-a66e-ed956e808e53",
   "metadata": {},
   "outputs": [
    {
     "data": {
      "text/plain": [
       "((1113171, 10), (1113171,), (371057, 10), (371057,), (371057, 10), (371057,))"
      ]
     },
     "execution_count": 12,
     "metadata": {},
     "output_type": "execute_result"
    }
   ],
   "source": [
    "X_train.shape, y_train.shape, X_val.shape, y_val.shape, X_test.shape, y_test.shape"
   ]
  },
  {
   "cell_type": "markdown",
   "id": "2fa4596d-184c-45b8-ad89-1d21beb25042",
   "metadata": {},
   "source": [
    "#### 3. Work through all of the steps outlined in the lesson, from setting the baseline to selected a model and evaluating the final model on your test data."
   ]
  },
  {
   "cell_type": "code",
   "execution_count": 13,
   "id": "18462f27-69c7-44ac-a602-ae3096be33f8",
   "metadata": {},
   "outputs": [
    {
     "data": {
      "image/png": "[encoded data removed]",
      "text/plain": [
       "<Figure size 432x288 with 1 Axes>"
      ]
     },
     "metadata": {
      "needs_background": "light"
     },
     "output_type": "display_data"
    }
   ],
   "source": [
    "plt.hist(y_train)\n",
    "plt.show()"
   ]
  },
  {
   "cell_type": "markdown",
   "id": "4a58bfbb-fb3a-487f-96ba-a48017653c6e",
   "metadata": {},
   "source": [
    "#### BASELINE"
   ]
  },
  {
   "cell_type": "code",
   "execution_count": 14,
   "id": "e1598365-9a1a-474a-a5d2-961ae30532f8",
   "metadata": {},
   "outputs": [
    {
     "data": {
      "text/plain": [
       "327901.2780588068"
      ]
     },
     "execution_count": 14,
     "metadata": {},
     "output_type": "execute_result"
    }
   ],
   "source": [
    "y_train.mean()"
   ]
  },
  {
   "cell_type": "code",
   "execution_count": 15,
   "id": "5ee002d8-8b26-4978-9dd4-4f3e44f79078",
   "metadata": {},
   "outputs": [],
   "source": [
    "y_train = pd.DataFrame(y_train)\n",
    "y_val = pd.DataFrame(y_val)\n",
    "y_test = pd.DataFrame(y_test)"
   ]
  },
  {
   "cell_type": "code",
   "execution_count": 16,
   "id": "893842e9-312e-47c4-9af5-c7333ce9202a",
   "metadata": {},
   "outputs": [
    {
     "name": "stdout",
     "output_type": "stream",
     "text": [
      "RMSE using Mean\n",
      "Train/In-Sample:  198989.99 \n",
      "Validate/Out-of-Sample:  198650.02\n"
     ]
    }
   ],
   "source": [
    "pred_mean = y_train.tax_value.mean()\n",
    "y_train['pred_mean'] = pred_mean\n",
    "y_val['pred_mean'] = pred_mean\n",
    "\n",
    "pred_median = y_train.tax_value.median()\n",
    "y_train['pred_median'] = pred_median\n",
    "y_val['pred_median'] = pred_median\n",
    "\n",
    "rmse_train = mean_squared_error(y_train.tax_value, y_train.pred_mean, squared=False)\n",
    "rmse_val = mean_squared_error(y_val.tax_value, y_val.pred_mean, squared=False)\n",
    "\n",
    "print(\"RMSE using Mean\\nTrain/In-Sample: \", round(rmse_train, 2), \n",
    "      \"\\nValidate/Out-of-Sample: \", round(rmse_val, 2))"
   ]
  },
  {
   "cell_type": "code",
   "execution_count": 17,
   "id": "e642eb56-4a47-43aa-8788-135cb3ed6a04",
   "metadata": {},
   "outputs": [
    {
     "name": "stdout",
     "output_type": "stream",
     "text": [
      "RMSE using Median\n",
      "Train/In-Sample:  201452.99 \n",
      "Validate/Out-of-Sample:  201084.14\n"
     ]
    }
   ],
   "source": [
    "rmse_train = mean_squared_error(y_train.tax_value, y_train.pred_median, squared=False)\n",
    "rmse_val = mean_squared_error(y_val.tax_value, y_val.pred_median, squared=False)\n",
    "\n",
    "print(\"RMSE using Median\\nTrain/In-Sample: \", round(rmse_train, 2), \n",
    "      \"\\nValidate/Out-of-Sample: \", round(rmse_val, 2))"
   ]
  },
  {
   "cell_type": "code",
   "execution_count": 18,
   "id": "bdf15371-2ff1-49b4-99bc-440ccbd870da",
   "metadata": {},
   "outputs": [],
   "source": [
    "# Mean is a better baseline"
   ]
  },
  {
   "cell_type": "code",
   "execution_count": 19,
   "id": "52d3292d-98f8-48f4-a7c6-7003d15b8037",
   "metadata": {},
   "outputs": [
    {
     "data": {
      "text/html": [
       "<div>\n",
       "<style scoped>\n",
       "    .dataframe tbody tr th:only-of-type {\n",
       "        vertical-align: middle;\n",
       "    }\n",
       "\n",
       "    .dataframe tbody tr th {\n",
       "        vertical-align: top;\n",
       "    }\n",
       "\n",
       "    .dataframe thead th {\n",
       "        text-align: right;\n",
       "    }\n",
       "</style>\n",
       "<table border=\"1\" class=\"dataframe\">\n",
       "  <thead>\n",
       "    <tr style=\"text-align: right;\">\n",
       "      <th></th>\n",
       "      <th>model</th>\n",
       "      <th>rmse_val</th>\n",
       "      <th>r2_val</th>\n",
       "    </tr>\n",
       "  </thead>\n",
       "  <tbody>\n",
       "    <tr>\n",
       "      <th>0</th>\n",
       "      <td>baseline_mean</td>\n",
       "      <td>201084.138757</td>\n",
       "      <td>0.0</td>\n",
       "    </tr>\n",
       "  </tbody>\n",
       "</table>\n",
       "</div>"
      ],
      "text/plain": [
       "           model       rmse_val  r2_val\n",
       "0  baseline_mean  201084.138757     0.0"
      ]
     },
     "execution_count": 19,
     "metadata": {},
     "output_type": "execute_result"
    }
   ],
   "source": [
    "metrics = pd.DataFrame(data=[{\n",
    "    'model': 'baseline_mean',\n",
    "    'rmse_val': rmse_val,\n",
    "    'r2_val': explained_variance_score(y_val.tax_value, y_val.pred_mean)}])\n",
    "metrics"
   ]
  },
  {
   "cell_type": "markdown",
   "id": "e5b70e65-efae-4b75-8517-9a16f5c69d5c",
   "metadata": {},
   "source": [
    "#### OLS"
   ]
  },
  {
   "cell_type": "code",
   "execution_count": 20,
   "id": "ae31c50b-d79c-4b07-887a-c8ba3fdaabf6",
   "metadata": {},
   "outputs": [
    {
     "data": {
      "text/html": [
       "<div>\n",
       "<style scoped>\n",
       "    .dataframe tbody tr th:only-of-type {\n",
       "        vertical-align: middle;\n",
       "    }\n",
       "\n",
       "    .dataframe tbody tr th {\n",
       "        vertical-align: top;\n",
       "    }\n",
       "\n",
       "    .dataframe thead th {\n",
       "        text-align: right;\n",
       "    }\n",
       "</style>\n",
       "<table border=\"1\" class=\"dataframe\">\n",
       "  <thead>\n",
       "    <tr style=\"text-align: right;\">\n",
       "      <th></th>\n",
       "      <th>beds</th>\n",
       "      <th>baths</th>\n",
       "      <th>sqft</th>\n",
       "      <th>built</th>\n",
       "      <th>taxes</th>\n",
       "      <th>los_angeles</th>\n",
       "      <th>orange</th>\n",
       "      <th>ventura</th>\n",
       "      <th>decade</th>\n",
       "      <th>location_percentile</th>\n",
       "    </tr>\n",
       "  </thead>\n",
       "  <tbody>\n",
       "    <tr>\n",
       "      <th>759032</th>\n",
       "      <td>0.333333</td>\n",
       "      <td>0.333333</td>\n",
       "      <td>0.513347</td>\n",
       "      <td>0.617647</td>\n",
       "      <td>0.180377</td>\n",
       "      <td>1.0</td>\n",
       "      <td>0.0</td>\n",
       "      <td>0.0</td>\n",
       "      <td>0.619048</td>\n",
       "      <td>0.000000</td>\n",
       "    </tr>\n",
       "    <tr>\n",
       "      <th>1533668</th>\n",
       "      <td>0.000000</td>\n",
       "      <td>0.000000</td>\n",
       "      <td>0.358756</td>\n",
       "      <td>0.637255</td>\n",
       "      <td>0.366890</td>\n",
       "      <td>1.0</td>\n",
       "      <td>0.0</td>\n",
       "      <td>0.0</td>\n",
       "      <td>0.666667</td>\n",
       "      <td>0.666667</td>\n",
       "    </tr>\n",
       "    <tr>\n",
       "      <th>1070151</th>\n",
       "      <td>1.000000</td>\n",
       "      <td>1.000000</td>\n",
       "      <td>0.733353</td>\n",
       "      <td>0.720588</td>\n",
       "      <td>0.554876</td>\n",
       "      <td>1.0</td>\n",
       "      <td>0.0</td>\n",
       "      <td>0.0</td>\n",
       "      <td>0.714286</td>\n",
       "      <td>1.000000</td>\n",
       "    </tr>\n",
       "    <tr>\n",
       "      <th>59636</th>\n",
       "      <td>0.000000</td>\n",
       "      <td>0.333333</td>\n",
       "      <td>0.330595</td>\n",
       "      <td>0.828431</td>\n",
       "      <td>0.240337</td>\n",
       "      <td>1.0</td>\n",
       "      <td>0.0</td>\n",
       "      <td>0.0</td>\n",
       "      <td>0.857143</td>\n",
       "      <td>0.333333</td>\n",
       "    </tr>\n",
       "    <tr>\n",
       "      <th>17435</th>\n",
       "      <td>0.666667</td>\n",
       "      <td>1.000000</td>\n",
       "      <td>0.954825</td>\n",
       "      <td>0.857843</td>\n",
       "      <td>0.796453</td>\n",
       "      <td>1.0</td>\n",
       "      <td>0.0</td>\n",
       "      <td>0.0</td>\n",
       "      <td>0.857143</td>\n",
       "      <td>1.000000</td>\n",
       "    </tr>\n",
       "  </tbody>\n",
       "</table>\n",
       "</div>"
      ],
      "text/plain": [
       "             beds     baths      sqft     built     taxes  los_angeles  \\\n",
       "759032   0.333333  0.333333  0.513347  0.617647  0.180377          1.0   \n",
       "1533668  0.000000  0.000000  0.358756  0.637255  0.366890          1.0   \n",
       "1070151  1.000000  1.000000  0.733353  0.720588  0.554876          1.0   \n",
       "59636    0.000000  0.333333  0.330595  0.828431  0.240337          1.0   \n",
       "17435    0.666667  1.000000  0.954825  0.857843  0.796453          1.0   \n",
       "\n",
       "         orange  ventura    decade  location_percentile  \n",
       "759032      0.0      0.0  0.619048             0.000000  \n",
       "1533668     0.0      0.0  0.666667             0.666667  \n",
       "1070151     0.0      0.0  0.714286             1.000000  \n",
       "59636       0.0      0.0  0.857143             0.333333  \n",
       "17435       0.0      0.0  0.857143             1.000000  "
      ]
     },
     "execution_count": 20,
     "metadata": {},
     "output_type": "execute_result"
    }
   ],
   "source": [
    "X_train.head()"
   ]
  },
  {
   "cell_type": "code",
   "execution_count": 21,
   "id": "aa6a35ce-dcbe-4659-986d-0891f615abcd",
   "metadata": {},
   "outputs": [
    {
     "name": "stderr",
     "output_type": "stream",
     "text": [
      "/opt/homebrew/anaconda3/lib/python3.9/site-packages/sklearn/linear_model/_base.py:141: FutureWarning: 'normalize' was deprecated in version 1.0 and will be removed in 1.2.\n",
      "If you wish to scale the data, use Pipeline with a StandardScaler in a preprocessing stage. To reproduce the previous behavior:\n",
      "\n",
      "from sklearn.pipeline import make_pipeline\n",
      "\n",
      "model = make_pipeline(StandardScaler(with_mean=False), LinearRegression())\n",
      "\n",
      "If you wish to pass a sample_weight parameter, you need to pass it as a fit parameter to each step of the pipeline as follows:\n",
      "\n",
      "kwargs = {s[0] + '__sample_weight': sample_weight for s in model.steps}\n",
      "model.fit(X, y, **kwargs)\n",
      "\n",
      "\n",
      "  warnings.warn(\n"
     ]
    },
    {
     "data": {
      "text/plain": [
       "LinearRegression(normalize=True)"
      ]
     },
     "execution_count": 21,
     "metadata": {},
     "output_type": "execute_result"
    }
   ],
   "source": [
    "lm = LinearRegression(normalize=True)\n",
    "lm.fit(X_train, y_train.tax_value)"
   ]
  },
  {
   "cell_type": "code",
   "execution_count": 22,
   "id": "26d2fafc-2cb4-437d-8586-1f86ff2a50df",
   "metadata": {},
   "outputs": [
    {
     "name": "stdout",
     "output_type": "stream",
     "text": [
      "RMSE for OLS using LinearRegression\n",
      "Training/In-Sample:  44747.744362888225 \n",
      "Validation/Out-of-Sample:  45226.35175715886\n"
     ]
    }
   ],
   "source": [
    "y_train['pred_lm'] = lm.predict(X_train)\n",
    "rmse_train = mean_squared_error(y_train.tax_value, y_train.pred_lm, squared=False)\n",
    "y_val['pred_lm'] = lm.predict(X_val)\n",
    "rmse_val = mean_squared_error(y_val.tax_value, y_val.pred_lm, squared=False)\n",
    "print(\"RMSE for OLS using LinearRegression\\nTraining/In-Sample: \", rmse_train, \n",
    "      \"\\nValidation/Out-of-Sample: \", rmse_val)"
   ]
  },
  {
   "cell_type": "code",
   "execution_count": 23,
   "id": "4fb1aa06-2f2d-48d4-8f35-0a6640738cf9",
   "metadata": {},
   "outputs": [
    {
     "name": "stderr",
     "output_type": "stream",
     "text": [
      "/var/folders/tg/htdzmdmj40vgs24scqz284xm0000gn/T/ipykernel_51268/3355564652.py:1: FutureWarning: The frame.append method is deprecated and will be removed from pandas in a future version. Use pandas.concat instead.\n",
      "  metrics = metrics.append({\n"
     ]
    },
    {
     "data": {
      "text/html": [
       "<div>\n",
       "<style scoped>\n",
       "    .dataframe tbody tr th:only-of-type {\n",
       "        vertical-align: middle;\n",
       "    }\n",
       "\n",
       "    .dataframe tbody tr th {\n",
       "        vertical-align: top;\n",
       "    }\n",
       "\n",
       "    .dataframe thead th {\n",
       "        text-align: right;\n",
       "    }\n",
       "</style>\n",
       "<table border=\"1\" class=\"dataframe\">\n",
       "  <thead>\n",
       "    <tr style=\"text-align: right;\">\n",
       "      <th></th>\n",
       "      <th>model</th>\n",
       "      <th>rmse_val</th>\n",
       "      <th>r2_val</th>\n",
       "    </tr>\n",
       "  </thead>\n",
       "  <tbody>\n",
       "    <tr>\n",
       "      <th>0</th>\n",
       "      <td>baseline_mean</td>\n",
       "      <td>201084.138757</td>\n",
       "      <td>0.000000</td>\n",
       "    </tr>\n",
       "    <tr>\n",
       "      <th>1</th>\n",
       "      <td>OLS</td>\n",
       "      <td>45226.351757</td>\n",
       "      <td>0.948167</td>\n",
       "    </tr>\n",
       "  </tbody>\n",
       "</table>\n",
       "</div>"
      ],
      "text/plain": [
       "           model       rmse_val    r2_val\n",
       "0  baseline_mean  201084.138757  0.000000\n",
       "1            OLS   45226.351757  0.948167"
      ]
     },
     "execution_count": 23,
     "metadata": {},
     "output_type": "execute_result"
    }
   ],
   "source": [
    "metrics = metrics.append({\n",
    "    'model': 'OLS',\n",
    "    'rmse_val': rmse_val,\n",
    "    'r2_val': explained_variance_score(y_val.tax_value, y_val.pred_lm)}, ignore_index=True)\n",
    "metrics"
   ]
  },
  {
   "cell_type": "markdown",
   "id": "88aff930-8bfa-47d9-802e-3a4ac9a68738",
   "metadata": {},
   "source": [
    "#### LassoLars"
   ]
  },
  {
   "cell_type": "code",
   "execution_count": 24,
   "id": "fe65ee3e-b186-4d5a-9e58-a4342cde6c4f",
   "metadata": {},
   "outputs": [
    {
     "name": "stderr",
     "output_type": "stream",
     "text": [
      "/opt/homebrew/anaconda3/lib/python3.9/site-packages/sklearn/linear_model/_base.py:133: FutureWarning: The default of 'normalize' will be set to False in version 1.2 and deprecated in version 1.4.\n",
      "If you wish to scale the data, use Pipeline with a StandardScaler in a preprocessing stage. To reproduce the previous behavior:\n",
      "\n",
      "from sklearn.pipeline import make_pipeline\n",
      "\n",
      "model = make_pipeline(StandardScaler(with_mean=False), LassoLars())\n",
      "\n",
      "If you wish to pass a sample_weight parameter, you need to pass it as a fit parameter to each step of the pipeline as follows:\n",
      "\n",
      "kwargs = {s[0] + '__sample_weight': sample_weight for s in model.steps}\n",
      "model.fit(X, y, **kwargs)\n",
      "\n",
      "Set parameter alpha to: original_alpha * np.sqrt(n_samples). \n",
      "  warnings.warn(\n"
     ]
    },
    {
     "data": {
      "text/plain": [
       "LassoLars(alpha=1)"
      ]
     },
     "execution_count": 24,
     "metadata": {},
     "output_type": "execute_result"
    }
   ],
   "source": [
    "lars = LassoLars(alpha=1)\n",
    "lars.fit(X_train, y_train.tax_value)"
   ]
  },
  {
   "cell_type": "code",
   "execution_count": 25,
   "id": "2989f822-085b-4354-9d57-e330d547b3f6",
   "metadata": {},
   "outputs": [
    {
     "name": "stdout",
     "output_type": "stream",
     "text": [
      "RMSE for Lasso + Lars\n",
      "Training/In-Sample:  44883.67445470185 \n",
      "Validation/Out-of-Sample:  45359.69995067482\n"
     ]
    }
   ],
   "source": [
    "y_train['pred_lars'] = lars.predict(X_train)\n",
    "rmse_train = mean_squared_error(y_train.tax_value, y_train.pred_lars, squared=False)\n",
    "y_val['pred_lars'] = lars.predict(X_val)\n",
    "rmse_val = mean_squared_error(y_val.tax_value, y_val.pred_lars, squared=False)\n",
    "print(\"RMSE for Lasso + Lars\\nTraining/In-Sample: \", rmse_train, \n",
    "      \"\\nValidation/Out-of-Sample: \", rmse_val)"
   ]
  },
  {
   "cell_type": "code",
   "execution_count": 26,
   "id": "32ba97f2-8355-4f89-a89c-a3957ce9785b",
   "metadata": {},
   "outputs": [
    {
     "name": "stderr",
     "output_type": "stream",
     "text": [
      "/var/folders/tg/htdzmdmj40vgs24scqz284xm0000gn/T/ipykernel_51268/599908125.py:1: FutureWarning: The frame.append method is deprecated and will be removed from pandas in a future version. Use pandas.concat instead.\n",
      "  metrics = metrics.append({\n"
     ]
    },
    {
     "data": {
      "text/html": [
       "<div>\n",
       "<style scoped>\n",
       "    .dataframe tbody tr th:only-of-type {\n",
       "        vertical-align: middle;\n",
       "    }\n",
       "\n",
       "    .dataframe tbody tr th {\n",
       "        vertical-align: top;\n",
       "    }\n",
       "\n",
       "    .dataframe thead th {\n",
       "        text-align: right;\n",
       "    }\n",
       "</style>\n",
       "<table border=\"1\" class=\"dataframe\">\n",
       "  <thead>\n",
       "    <tr style=\"text-align: right;\">\n",
       "      <th></th>\n",
       "      <th>model</th>\n",
       "      <th>rmse_val</th>\n",
       "      <th>r2_val</th>\n",
       "    </tr>\n",
       "  </thead>\n",
       "  <tbody>\n",
       "    <tr>\n",
       "      <th>0</th>\n",
       "      <td>baseline_mean</td>\n",
       "      <td>201084.138757</td>\n",
       "      <td>0.000000</td>\n",
       "    </tr>\n",
       "    <tr>\n",
       "      <th>1</th>\n",
       "      <td>OLS</td>\n",
       "      <td>45226.351757</td>\n",
       "      <td>0.948167</td>\n",
       "    </tr>\n",
       "    <tr>\n",
       "      <th>2</th>\n",
       "      <td>LarsLasso, alpha 1</td>\n",
       "      <td>45359.699951</td>\n",
       "      <td>0.947861</td>\n",
       "    </tr>\n",
       "  </tbody>\n",
       "</table>\n",
       "</div>"
      ],
      "text/plain": [
       "                model       rmse_val    r2_val\n",
       "0       baseline_mean  201084.138757  0.000000\n",
       "1                 OLS   45226.351757  0.948167\n",
       "2  LarsLasso, alpha 1   45359.699951  0.947861"
      ]
     },
     "execution_count": 26,
     "metadata": {},
     "output_type": "execute_result"
    }
   ],
   "source": [
    "metrics = metrics.append({\n",
    "    'model': 'LarsLasso, alpha 1',\n",
    "    'rmse_val': rmse_val,\n",
    "    'r2_val': explained_variance_score(y_val.tax_value, y_val.pred_lars)}, ignore_index=True)\n",
    "metrics"
   ]
  },
  {
   "cell_type": "code",
   "execution_count": 41,
   "id": "7e44c7bb-82dc-4954-8297-1f7370393864",
   "metadata": {},
   "outputs": [
    {
     "data": {
      "text/plain": [
       "TweedieRegressor(alpha=0, power=1.8)"
      ]
     },
     "execution_count": 41,
     "metadata": {},
     "output_type": "execute_result"
    }
   ],
   "source": [
    "glm = TweedieRegressor(power=1.8, alpha=0)\n",
    "glm.fit(X_train, y_train.tax_value)"
   ]
  },
  {
   "cell_type": "code",
   "execution_count": 42,
   "id": "b9a6d91e-647a-4fc3-a9ef-d4b967acb267",
   "metadata": {},
   "outputs": [
    {
     "name": "stdout",
     "output_type": "stream",
     "text": [
      "RMSE for GLM using Tweedie, power=0 & alpha=0\n",
      "Training/In-Sample:  71326.93173905819 \n",
      "Validation/Out-of-Sample:  71769.1192727566\n"
     ]
    }
   ],
   "source": [
    "y_train['pred_glm'] = glm.predict(X_train)\n",
    "rmse_train = mean_squared_error(y_train.tax_value, y_train.pred_glm, squared=False)\n",
    "y_val['pred_glm'] = glm.predict(X_val)\n",
    "rmse_val = mean_squared_error(y_val.tax_value, y_val.pred_glm, squared=False)\n",
    "print(\"RMSE for GLM using Tweedie, power=0 & alpha=0\\nTraining/In-Sample: \", rmse_train, \n",
    "      \"\\nValidation/Out-of-Sample: \", rmse_val)"
   ]
  },
  {
   "cell_type": "code",
   "execution_count": 43,
   "id": "f7187fe1-b0a9-4aff-a269-5b96eeaba1aa",
   "metadata": {},
   "outputs": [
    {
     "name": "stderr",
     "output_type": "stream",
     "text": [
      "/var/folders/tg/htdzmdmj40vgs24scqz284xm0000gn/T/ipykernel_51268/3248062047.py:1: FutureWarning: The frame.append method is deprecated and will be removed from pandas in a future version. Use pandas.concat instead.\n",
      "  metrics = metrics.append({\n"
     ]
    },
    {
     "data": {
      "text/html": [
       "<div>\n",
       "<style scoped>\n",
       "    .dataframe tbody tr th:only-of-type {\n",
       "        vertical-align: middle;\n",
       "    }\n",
       "\n",
       "    .dataframe tbody tr th {\n",
       "        vertical-align: top;\n",
       "    }\n",
       "\n",
       "    .dataframe thead th {\n",
       "        text-align: right;\n",
       "    }\n",
       "</style>\n",
       "<table border=\"1\" class=\"dataframe\">\n",
       "  <thead>\n",
       "    <tr style=\"text-align: right;\">\n",
       "      <th></th>\n",
       "      <th>model</th>\n",
       "      <th>rmse_val</th>\n",
       "      <th>r2_val</th>\n",
       "    </tr>\n",
       "  </thead>\n",
       "  <tbody>\n",
       "    <tr>\n",
       "      <th>0</th>\n",
       "      <td>baseline_mean</td>\n",
       "      <td>201084.138757</td>\n",
       "      <td>0.000000</td>\n",
       "    </tr>\n",
       "    <tr>\n",
       "      <th>1</th>\n",
       "      <td>OLS</td>\n",
       "      <td>45226.351757</td>\n",
       "      <td>0.948167</td>\n",
       "    </tr>\n",
       "    <tr>\n",
       "      <th>2</th>\n",
       "      <td>LarsLasso, alpha 1</td>\n",
       "      <td>45359.699951</td>\n",
       "      <td>0.947861</td>\n",
       "    </tr>\n",
       "    <tr>\n",
       "      <th>3</th>\n",
       "      <td>Inverse Gaussian</td>\n",
       "      <td>198650.019930</td>\n",
       "      <td>0.000000</td>\n",
       "    </tr>\n",
       "    <tr>\n",
       "      <th>4</th>\n",
       "      <td>Gamma</td>\n",
       "      <td>81847.766037</td>\n",
       "      <td>0.832621</td>\n",
       "    </tr>\n",
       "    <tr>\n",
       "      <th>5</th>\n",
       "      <td>Poisson</td>\n",
       "      <td>59471.993826</td>\n",
       "      <td>0.910371</td>\n",
       "    </tr>\n",
       "    <tr>\n",
       "      <th>6</th>\n",
       "      <td>Compound 1.2</td>\n",
       "      <td>60782.404691</td>\n",
       "      <td>0.906379</td>\n",
       "    </tr>\n",
       "    <tr>\n",
       "      <th>7</th>\n",
       "      <td>Compound 1.8</td>\n",
       "      <td>71769.119273</td>\n",
       "      <td>0.870149</td>\n",
       "    </tr>\n",
       "  </tbody>\n",
       "</table>\n",
       "</div>"
      ],
      "text/plain": [
       "                model       rmse_val    r2_val\n",
       "0       baseline_mean  201084.138757  0.000000\n",
       "1                 OLS   45226.351757  0.948167\n",
       "2  LarsLasso, alpha 1   45359.699951  0.947861\n",
       "3    Inverse Gaussian  198650.019930  0.000000\n",
       "4               Gamma   81847.766037  0.832621\n",
       "5             Poisson   59471.993826  0.910371\n",
       "6        Compound 1.2   60782.404691  0.906379\n",
       "7        Compound 1.8   71769.119273  0.870149"
      ]
     },
     "execution_count": 43,
     "metadata": {},
     "output_type": "execute_result"
    }
   ],
   "source": [
    "metrics = metrics.append({\n",
    "    'model': 'Compound 1.8',\n",
    "    'rmse_val': rmse_val,\n",
    "    'r2_val': explained_variance_score(y_val.tax_value, y_val.pred_glm)}, ignore_index=True)\n",
    "metrics"
   ]
  },
  {
   "cell_type": "markdown",
   "id": "865a2efc-fa52-4b0d-ba20-b91234898b2b",
   "metadata": {},
   "source": [
    "#### Polynomial"
   ]
  },
  {
   "cell_type": "code",
   "execution_count": 44,
   "id": "5219d05e-d272-4cdf-a30b-39f1336b3d92",
   "metadata": {},
   "outputs": [],
   "source": [
    "pf = PolynomialFeatures(degree=4)\n",
    "X_train_d2 = pf.fit_transform(X_train)\n",
    "X_val_d2 = pf.transform(X_val)\n",
    "X_test_d2 = pf.transform(X_test)"
   ]
  },
  {
   "cell_type": "code",
   "execution_count": 45,
   "id": "b1558456-4f44-49b0-8e06-526f95a6c96a",
   "metadata": {},
   "outputs": [
    {
     "data": {
      "text/plain": [
       "((1113171, 1001), (371057, 1001), (371057, 1001))"
      ]
     },
     "execution_count": 45,
     "metadata": {},
     "output_type": "execute_result"
    }
   ],
   "source": [
    "X_train_d2.shape, X_val_d2.shape, X_test_d2.shape"
   ]
  },
  {
   "cell_type": "code",
   "execution_count": null,
   "id": "6d4aec23-6987-400d-829e-88f62c2226ad",
   "metadata": {},
   "outputs": [],
   "source": [
    "lm2 = LinearRegression()\n",
    "lm2.fit(X_train_d2, y_train.tax_value)"
   ]
  },
  {
   "cell_type": "code",
   "execution_count": null,
   "id": "17c0e8c1-afc8-4dc2-8451-b3d29afd0448",
   "metadata": {},
   "outputs": [],
   "source": [
    "y_train['pred_lm2'] = lm2.predict(X_train_d2)\n",
    "rmse_train = mean_squared_error(y_train.tax_value, y_train.pred_lm2, squared=False)\n",
    "y_val['pred_lm2'] = lm2.predict(X_val_d2)\n",
    "rmse_val = mean_squared_error(y_val.tax_value, y_val.pred_lm2, squared=False)\n",
    "\n",
    "\n",
    "print(\"RMSE for OLS using LinearRegression\\nTraining/In-Sample: \", rmse_train, \n",
    "      \"\\nValidation/Out-of-Sample: \", rmse_val)"
   ]
  },
  {
   "cell_type": "code",
   "execution_count": 47,
   "id": "4705c256-ecf2-4f08-bfc0-3151c8282a90",
   "metadata": {},
   "outputs": [
    {
     "name": "stderr",
     "output_type": "stream",
     "text": [
      "/var/folders/tg/htdzmdmj40vgs24scqz284xm0000gn/T/ipykernel_50806/2330926957.py:1: FutureWarning: The frame.append method is deprecated and will be removed from pandas in a future version. Use pandas.concat instead.\n",
      "  metrics = metrics.append({\n"
     ]
    },
    {
     "data": {
      "text/html": [
       "<div>\n",
       "<style scoped>\n",
       "    .dataframe tbody tr th:only-of-type {\n",
       "        vertical-align: middle;\n",
       "    }\n",
       "\n",
       "    .dataframe tbody tr th {\n",
       "        vertical-align: top;\n",
       "    }\n",
       "\n",
       "    .dataframe thead th {\n",
       "        text-align: right;\n",
       "    }\n",
       "</style>\n",
       "<table border=\"1\" class=\"dataframe\">\n",
       "  <thead>\n",
       "    <tr style=\"text-align: right;\">\n",
       "      <th></th>\n",
       "      <th>model</th>\n",
       "      <th>rmse_val</th>\n",
       "      <th>r2_val</th>\n",
       "    </tr>\n",
       "  </thead>\n",
       "  <tbody>\n",
       "    <tr>\n",
       "      <th>0</th>\n",
       "      <td>baseline_mean</td>\n",
       "      <td>201084.138757</td>\n",
       "      <td>0.000000</td>\n",
       "    </tr>\n",
       "    <tr>\n",
       "      <th>1</th>\n",
       "      <td>OLS</td>\n",
       "      <td>46510.109221</td>\n",
       "      <td>0.945183</td>\n",
       "    </tr>\n",
       "    <tr>\n",
       "      <th>2</th>\n",
       "      <td>LarsLasso, alpha 1</td>\n",
       "      <td>46627.745896</td>\n",
       "      <td>0.944905</td>\n",
       "    </tr>\n",
       "    <tr>\n",
       "      <th>3</th>\n",
       "      <td>Inverse Gaussian</td>\n",
       "      <td>198650.019930</td>\n",
       "      <td>0.000000</td>\n",
       "    </tr>\n",
       "    <tr>\n",
       "      <th>4</th>\n",
       "      <td>Quadratic</td>\n",
       "      <td>44136.688483</td>\n",
       "      <td>0.950635</td>\n",
       "    </tr>\n",
       "    <tr>\n",
       "      <th>5</th>\n",
       "      <td>d4</td>\n",
       "      <td>41855.264371</td>\n",
       "      <td>0.955606</td>\n",
       "    </tr>\n",
       "  </tbody>\n",
       "</table>\n",
       "</div>"
      ],
      "text/plain": [
       "                model       rmse_val    r2_val\n",
       "0       baseline_mean  201084.138757  0.000000\n",
       "1                 OLS   46510.109221  0.945183\n",
       "2  LarsLasso, alpha 1   46627.745896  0.944905\n",
       "3    Inverse Gaussian  198650.019930  0.000000\n",
       "4           Quadratic   44136.688483  0.950635\n",
       "5                  d4   41855.264371  0.955606"
      ]
     },
     "execution_count": 47,
     "metadata": {},
     "output_type": "execute_result"
    }
   ],
   "source": [
    "metrics = metrics.append({\n",
    "    'model': 'd4',\n",
    "    'rmse_val': rmse_val,\n",
    "    'r2_val': explained_variance_score(y_val.tax_value, y_val.pred_lm2)}, ignore_index=True)\n",
    "metrics"
   ]
  },
  {
   "cell_type": "markdown",
   "id": "361ce870-7abd-42f4-b55e-ad9820987ce0",
   "metadata": {},
   "source": [
    "#### Quadratic wins, but is probably overfit"
   ]
  },
  {
   "cell_type": "code",
   "execution_count": 34,
   "id": "4c008339-d4cb-45b9-b06a-43135a839a7b",
   "metadata": {},
   "outputs": [
    {
     "name": "stdout",
     "output_type": "stream",
     "text": [
      "RMSE for OLS using LinearRegression\n",
      "Training/In-Sample:  43667.90085687835 \n",
      "Validation/Out-of-Sample:  44136.68848277937 \n",
      "Test/Out-of-Sample:  43710.64610899026\n"
     ]
    }
   ],
   "source": [
    "y_test['pred_lm2'] = lm2.predict(X_test_d2)\n",
    "rmse_test = mean_squared_error(y_test.tax_value, y_test.pred_lm2, squared=False)\n",
    "print(\"RMSE for OLS using LinearRegression\\nTraining/In-Sample: \", rmse_train, \n",
    "      \"\\nValidation/Out-of-Sample: \", rmse_val,\n",
    "      \"\\nTest/Out-of-Sample: \", rmse_test)"
   ]
  },
  {
   "cell_type": "code",
   "execution_count": 38,
   "id": "96910ec2-b527-40c9-9b5b-23e565704401",
   "metadata": {},
   "outputs": [
    {
     "data": {
      "image/png": "[encoded data removed]",
      "text/plain": [
       "<Figure size 1152x576 with 1 Axes>"
      ]
     },
     "metadata": {
      "needs_background": "light"
     },
     "output_type": "display_data"
    }
   ],
   "source": [
    "# plot to visualize actual vs predicted. \n",
    "plt.figure(figsize=(16,8))\n",
    "plt.hist(y_val.tax_value, color='blue', alpha=.5, label=\"Actual Final Grades\")\n",
    "plt.hist(y_val.pred_lm, color='red', alpha=.5, label=\"Model: LinearRegression\")\n",
    "# plt.hist(y_val.pred_glm, color='yellow', alpha=.5, label=\"Model: TweedieRegressor\")\n",
    "# plt.hist(y_val.pred_lm2, color='green', alpha=.5, label=\"Model 2nd degree Polynomial\")\n",
    "plt.xlabel(\"Tax Values\")\n",
    "plt.ylabel(\"Number of Houses\")\n",
    "plt.title(\"Comparing the Distribution of Actual Tax Values to Distributions of Predicted Tax Values for the Top Models\")\n",
    "plt.legend()\n",
    "plt.show()"
   ]
  },
  {
   "cell_type": "code",
   "execution_count": null,
   "id": "61596379-099c-48eb-8ab6-321424fceecc",
   "metadata": {},
   "outputs": [],
   "source": []
  }
 ],
 "metadata": {
  "kernelspec": {
   "display_name": "Python 3 (ipykernel)",
   "language": "python",
   "name": "python3"
  },
  "language_info": {
   "codemirror_mode": {
    "name": "ipython",
    "version": 3
   },
   "file_extension": ".py",
   "mimetype": "text/x-python",
   "name": "python",
   "nbconvert_exporter": "python",
   "pygments_lexer": "ipython3",
   "version": "3.9.12"
  }
 },
 "nbformat": 4,
 "nbformat_minor": 5
}
