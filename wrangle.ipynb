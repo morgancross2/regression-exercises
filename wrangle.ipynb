{
 "cells": [
  {
   "cell_type": "code",
   "execution_count": 1,
   "id": "07e9d59a-f208-40ff-8e45-e160208c487c",
   "metadata": {},
   "outputs": [],
   "source": [
    "# standard ds imports\n",
    "import numpy as np\n",
    "import pandas as pd\n",
    "\n",
    "# for wrangling and exploration\n",
    "# import wrangle\n",
    "\n",
    "# for visualization\n",
    "import matplotlib.pyplot as plt\n",
    "import seaborn as sns\n",
    "sns.set()\n",
    "\n",
    "# for statistical analysis\n",
    "import scipy.stats as stats\n",
    "\n",
    "import env\n",
    "import os\n",
    "import wrangle"
   ]
  },
  {
   "cell_type": "markdown",
   "id": "205b623a-f7e9-4430-8d8d-70a67cb930e6",
   "metadata": {},
   "source": [
    "#### 1. Acquire bedroomcnt, bathroomcnt, calculatedfinishedsquarefeet, taxvaluedollarcnt, yearbuilt, taxamount, and fips from the zillow database for all 'Single Family Residential' properties."
   ]
  },
  {
   "cell_type": "code",
   "execution_count": 13,
   "id": "84888113-3313-487a-b050-22b1aa270e40",
   "metadata": {},
   "outputs": [],
   "source": [
    "query = '''\n",
    "SELECT bedroomcnt, \n",
    "\t\tbathroomcnt, \n",
    "        calculatedfinishedsquarefeet,\n",
    "        taxvaluedollarcnt,\n",
    "        yearbuilt,\n",
    "        taxamount,\n",
    "        fips\n",
    " FROM properties_2017\n",
    " WHERE propertylandusetypeid = 261\n",
    " OR propertylandusetypeid = 279\n",
    " ;\n",
    "'''"
   ]
  },
  {
   "cell_type": "code",
   "execution_count": 14,
   "id": "918434ce-8ccd-47d5-af76-56b4265fcc1d",
   "metadata": {},
   "outputs": [],
   "source": [
    "df_2017 = pd.read_sql(query, env.conn('zillow'))"
   ]
  },
  {
   "cell_type": "code",
   "execution_count": 15,
   "id": "91e5710c-9a5c-4f8d-a699-55fdeecd8c19",
   "metadata": {},
   "outputs": [],
   "source": [
    "zil = df_2017"
   ]
  },
  {
   "cell_type": "code",
   "execution_count": 16,
   "id": "eab39b9a-f67c-4933-a5b0-1d035a028040",
   "metadata": {},
   "outputs": [
    {
     "data": {
      "text/html": [
       "<div>\n",
       "<style scoped>\n",
       "    .dataframe tbody tr th:only-of-type {\n",
       "        vertical-align: middle;\n",
       "    }\n",
       "\n",
       "    .dataframe tbody tr th {\n",
       "        vertical-align: top;\n",
       "    }\n",
       "\n",
       "    .dataframe thead th {\n",
       "        text-align: right;\n",
       "    }\n",
       "</style>\n",
       "<table border=\"1\" class=\"dataframe\">\n",
       "  <thead>\n",
       "    <tr style=\"text-align: right;\">\n",
       "      <th></th>\n",
       "      <th>bedroomcnt</th>\n",
       "      <th>bathroomcnt</th>\n",
       "      <th>calculatedfinishedsquarefeet</th>\n",
       "      <th>taxvaluedollarcnt</th>\n",
       "      <th>yearbuilt</th>\n",
       "      <th>taxamount</th>\n",
       "      <th>fips</th>\n",
       "    </tr>\n",
       "  </thead>\n",
       "  <tbody>\n",
       "    <tr>\n",
       "      <th>0</th>\n",
       "      <td>0.0</td>\n",
       "      <td>0.0</td>\n",
       "      <td>NaN</td>\n",
       "      <td>27516.0</td>\n",
       "      <td>NaN</td>\n",
       "      <td>NaN</td>\n",
       "      <td>6037.0</td>\n",
       "    </tr>\n",
       "    <tr>\n",
       "      <th>1</th>\n",
       "      <td>0.0</td>\n",
       "      <td>0.0</td>\n",
       "      <td>NaN</td>\n",
       "      <td>10.0</td>\n",
       "      <td>NaN</td>\n",
       "      <td>NaN</td>\n",
       "      <td>6037.0</td>\n",
       "    </tr>\n",
       "    <tr>\n",
       "      <th>2</th>\n",
       "      <td>0.0</td>\n",
       "      <td>0.0</td>\n",
       "      <td>NaN</td>\n",
       "      <td>10.0</td>\n",
       "      <td>NaN</td>\n",
       "      <td>NaN</td>\n",
       "      <td>6037.0</td>\n",
       "    </tr>\n",
       "    <tr>\n",
       "      <th>3</th>\n",
       "      <td>0.0</td>\n",
       "      <td>0.0</td>\n",
       "      <td>NaN</td>\n",
       "      <td>2108.0</td>\n",
       "      <td>NaN</td>\n",
       "      <td>174.21</td>\n",
       "      <td>6037.0</td>\n",
       "    </tr>\n",
       "    <tr>\n",
       "      <th>4</th>\n",
       "      <td>4.0</td>\n",
       "      <td>2.0</td>\n",
       "      <td>3633.0</td>\n",
       "      <td>296425.0</td>\n",
       "      <td>2005.0</td>\n",
       "      <td>6941.39</td>\n",
       "      <td>6037.0</td>\n",
       "    </tr>\n",
       "  </tbody>\n",
       "</table>\n",
       "</div>"
      ],
      "text/plain": [
       "   bedroomcnt  bathroomcnt  calculatedfinishedsquarefeet  taxvaluedollarcnt  \\\n",
       "0         0.0          0.0                           NaN            27516.0   \n",
       "1         0.0          0.0                           NaN               10.0   \n",
       "2         0.0          0.0                           NaN               10.0   \n",
       "3         0.0          0.0                           NaN             2108.0   \n",
       "4         4.0          2.0                        3633.0           296425.0   \n",
       "\n",
       "   yearbuilt  taxamount    fips  \n",
       "0        NaN        NaN  6037.0  \n",
       "1        NaN        NaN  6037.0  \n",
       "2        NaN        NaN  6037.0  \n",
       "3        NaN     174.21  6037.0  \n",
       "4     2005.0    6941.39  6037.0  "
      ]
     },
     "execution_count": 16,
     "metadata": {},
     "output_type": "execute_result"
    }
   ],
   "source": [
    "zil.head()"
   ]
  },
  {
   "cell_type": "code",
   "execution_count": 17,
   "id": "1a54ccb8-5e19-4720-94c2-80f77cba83d8",
   "metadata": {},
   "outputs": [
    {
     "data": {
      "text/plain": [
       "(2152864, 7)"
      ]
     },
     "execution_count": 17,
     "metadata": {},
     "output_type": "execute_result"
    }
   ],
   "source": [
    "zil.shape"
   ]
  },
  {
   "cell_type": "code",
   "execution_count": 18,
   "id": "46c3ac68-61a2-4d36-9946-1cc37813eb69",
   "metadata": {},
   "outputs": [],
   "source": [
    "zil.to_csv('zillow.csv')"
   ]
  },
  {
   "cell_type": "markdown",
   "id": "8e556664-7ac9-4a2b-bfac-e428e504ca6f",
   "metadata": {},
   "source": [
    "#### 2. Using your acquired Zillow data, walk through the summarization and cleaning steps in your wrangle.ipynb file like we did above. You may handle the missing values however you feel is appropriate and meaningful; remember to document your process and decisions using markdown and code commenting where helpful."
   ]
  },
  {
   "cell_type": "code",
   "execution_count": 2,
   "id": "e4688e4f-26f2-4a44-9419-410f6bfb6d8f",
   "metadata": {},
   "outputs": [],
   "source": [
    "zil = pd.read_csv('zillow.csv').iloc[:,1:]"
   ]
  },
  {
   "cell_type": "code",
   "execution_count": 3,
   "id": "74c49823-3bf6-4ba4-9e68-eed248d235b3",
   "metadata": {},
   "outputs": [
    {
     "data": {
      "text/html": [
       "<div>\n",
       "<style scoped>\n",
       "    .dataframe tbody tr th:only-of-type {\n",
       "        vertical-align: middle;\n",
       "    }\n",
       "\n",
       "    .dataframe tbody tr th {\n",
       "        vertical-align: top;\n",
       "    }\n",
       "\n",
       "    .dataframe thead th {\n",
       "        text-align: right;\n",
       "    }\n",
       "</style>\n",
       "<table border=\"1\" class=\"dataframe\">\n",
       "  <thead>\n",
       "    <tr style=\"text-align: right;\">\n",
       "      <th></th>\n",
       "      <th>bedroomcnt</th>\n",
       "      <th>bathroomcnt</th>\n",
       "      <th>calculatedfinishedsquarefeet</th>\n",
       "      <th>taxvaluedollarcnt</th>\n",
       "      <th>yearbuilt</th>\n",
       "      <th>taxamount</th>\n",
       "      <th>fips</th>\n",
       "    </tr>\n",
       "  </thead>\n",
       "  <tbody>\n",
       "    <tr>\n",
       "      <th>0</th>\n",
       "      <td>0.0</td>\n",
       "      <td>0.0</td>\n",
       "      <td>NaN</td>\n",
       "      <td>27516.0</td>\n",
       "      <td>NaN</td>\n",
       "      <td>NaN</td>\n",
       "      <td>6037.0</td>\n",
       "    </tr>\n",
       "    <tr>\n",
       "      <th>1</th>\n",
       "      <td>0.0</td>\n",
       "      <td>0.0</td>\n",
       "      <td>NaN</td>\n",
       "      <td>10.0</td>\n",
       "      <td>NaN</td>\n",
       "      <td>NaN</td>\n",
       "      <td>6037.0</td>\n",
       "    </tr>\n",
       "    <tr>\n",
       "      <th>2</th>\n",
       "      <td>0.0</td>\n",
       "      <td>0.0</td>\n",
       "      <td>NaN</td>\n",
       "      <td>10.0</td>\n",
       "      <td>NaN</td>\n",
       "      <td>NaN</td>\n",
       "      <td>6037.0</td>\n",
       "    </tr>\n",
       "    <tr>\n",
       "      <th>3</th>\n",
       "      <td>0.0</td>\n",
       "      <td>0.0</td>\n",
       "      <td>NaN</td>\n",
       "      <td>2108.0</td>\n",
       "      <td>NaN</td>\n",
       "      <td>174.21</td>\n",
       "      <td>6037.0</td>\n",
       "    </tr>\n",
       "    <tr>\n",
       "      <th>4</th>\n",
       "      <td>4.0</td>\n",
       "      <td>2.0</td>\n",
       "      <td>3633.0</td>\n",
       "      <td>296425.0</td>\n",
       "      <td>2005.0</td>\n",
       "      <td>6941.39</td>\n",
       "      <td>6037.0</td>\n",
       "    </tr>\n",
       "    <tr>\n",
       "      <th>5</th>\n",
       "      <td>0.0</td>\n",
       "      <td>0.0</td>\n",
       "      <td>NaN</td>\n",
       "      <td>124.0</td>\n",
       "      <td>NaN</td>\n",
       "      <td>NaN</td>\n",
       "      <td>6037.0</td>\n",
       "    </tr>\n",
       "    <tr>\n",
       "      <th>6</th>\n",
       "      <td>3.0</td>\n",
       "      <td>4.0</td>\n",
       "      <td>1620.0</td>\n",
       "      <td>847770.0</td>\n",
       "      <td>2011.0</td>\n",
       "      <td>10244.94</td>\n",
       "      <td>6037.0</td>\n",
       "    </tr>\n",
       "    <tr>\n",
       "      <th>7</th>\n",
       "      <td>3.0</td>\n",
       "      <td>2.0</td>\n",
       "      <td>2077.0</td>\n",
       "      <td>646760.0</td>\n",
       "      <td>1926.0</td>\n",
       "      <td>7924.68</td>\n",
       "      <td>6037.0</td>\n",
       "    </tr>\n",
       "    <tr>\n",
       "      <th>8</th>\n",
       "      <td>0.0</td>\n",
       "      <td>0.0</td>\n",
       "      <td>NaN</td>\n",
       "      <td>6730242.0</td>\n",
       "      <td>NaN</td>\n",
       "      <td>80348.13</td>\n",
       "      <td>6037.0</td>\n",
       "    </tr>\n",
       "    <tr>\n",
       "      <th>9</th>\n",
       "      <td>0.0</td>\n",
       "      <td>0.0</td>\n",
       "      <td>NaN</td>\n",
       "      <td>15532.0</td>\n",
       "      <td>NaN</td>\n",
       "      <td>248.89</td>\n",
       "      <td>6037.0</td>\n",
       "    </tr>\n",
       "  </tbody>\n",
       "</table>\n",
       "</div>"
      ],
      "text/plain": [
       "   bedroomcnt  bathroomcnt  calculatedfinishedsquarefeet  taxvaluedollarcnt  \\\n",
       "0         0.0          0.0                           NaN            27516.0   \n",
       "1         0.0          0.0                           NaN               10.0   \n",
       "2         0.0          0.0                           NaN               10.0   \n",
       "3         0.0          0.0                           NaN             2108.0   \n",
       "4         4.0          2.0                        3633.0           296425.0   \n",
       "5         0.0          0.0                           NaN              124.0   \n",
       "6         3.0          4.0                        1620.0           847770.0   \n",
       "7         3.0          2.0                        2077.0           646760.0   \n",
       "8         0.0          0.0                           NaN          6730242.0   \n",
       "9         0.0          0.0                           NaN            15532.0   \n",
       "\n",
       "   yearbuilt  taxamount    fips  \n",
       "0        NaN        NaN  6037.0  \n",
       "1        NaN        NaN  6037.0  \n",
       "2        NaN        NaN  6037.0  \n",
       "3        NaN     174.21  6037.0  \n",
       "4     2005.0    6941.39  6037.0  \n",
       "5        NaN        NaN  6037.0  \n",
       "6     2011.0   10244.94  6037.0  \n",
       "7     1926.0    7924.68  6037.0  \n",
       "8        NaN   80348.13  6037.0  \n",
       "9        NaN     248.89  6037.0  "
      ]
     },
     "execution_count": 3,
     "metadata": {},
     "output_type": "execute_result"
    }
   ],
   "source": [
    "zil.head(10)"
   ]
  },
  {
   "cell_type": "code",
   "execution_count": 4,
   "id": "1901cd7c-0ff7-4bdc-bd55-7cff1ff31ae5",
   "metadata": {},
   "outputs": [
    {
     "data": {
      "text/html": [
       "<div>\n",
       "<style scoped>\n",
       "    .dataframe tbody tr th:only-of-type {\n",
       "        vertical-align: middle;\n",
       "    }\n",
       "\n",
       "    .dataframe tbody tr th {\n",
       "        vertical-align: top;\n",
       "    }\n",
       "\n",
       "    .dataframe thead th {\n",
       "        text-align: right;\n",
       "    }\n",
       "</style>\n",
       "<table border=\"1\" class=\"dataframe\">\n",
       "  <thead>\n",
       "    <tr style=\"text-align: right;\">\n",
       "      <th></th>\n",
       "      <th>count</th>\n",
       "      <th>mean</th>\n",
       "      <th>std</th>\n",
       "      <th>min</th>\n",
       "      <th>25%</th>\n",
       "      <th>50%</th>\n",
       "      <th>75%</th>\n",
       "      <th>max</th>\n",
       "    </tr>\n",
       "  </thead>\n",
       "  <tbody>\n",
       "    <tr>\n",
       "      <th>bedroomcnt</th>\n",
       "      <td>2152853.0</td>\n",
       "      <td>3.287195</td>\n",
       "      <td>0.954757</td>\n",
       "      <td>0.00</td>\n",
       "      <td>3.0000</td>\n",
       "      <td>3.000</td>\n",
       "      <td>4.0000</td>\n",
       "      <td>25.00</td>\n",
       "    </tr>\n",
       "    <tr>\n",
       "      <th>bathroomcnt</th>\n",
       "      <td>2152853.0</td>\n",
       "      <td>2.230687</td>\n",
       "      <td>0.999281</td>\n",
       "      <td>0.00</td>\n",
       "      <td>2.0000</td>\n",
       "      <td>2.000</td>\n",
       "      <td>3.0000</td>\n",
       "      <td>32.00</td>\n",
       "    </tr>\n",
       "    <tr>\n",
       "      <th>calculatedfinishedsquarefeet</th>\n",
       "      <td>2144379.0</td>\n",
       "      <td>1862.855178</td>\n",
       "      <td>1222.125124</td>\n",
       "      <td>1.00</td>\n",
       "      <td>1257.0000</td>\n",
       "      <td>1623.000</td>\n",
       "      <td>2208.0000</td>\n",
       "      <td>952576.00</td>\n",
       "    </tr>\n",
       "    <tr>\n",
       "      <th>taxvaluedollarcnt</th>\n",
       "      <td>2152371.0</td>\n",
       "      <td>461896.052361</td>\n",
       "      <td>699675.940049</td>\n",
       "      <td>1.00</td>\n",
       "      <td>188170.0000</td>\n",
       "      <td>327671.000</td>\n",
       "      <td>534527.0000</td>\n",
       "      <td>98428909.00</td>\n",
       "    </tr>\n",
       "    <tr>\n",
       "      <th>yearbuilt</th>\n",
       "      <td>2143526.0</td>\n",
       "      <td>1960.949681</td>\n",
       "      <td>22.162196</td>\n",
       "      <td>1801.00</td>\n",
       "      <td>1949.0000</td>\n",
       "      <td>1958.000</td>\n",
       "      <td>1976.0000</td>\n",
       "      <td>2016.00</td>\n",
       "    </tr>\n",
       "    <tr>\n",
       "      <th>taxamount</th>\n",
       "      <td>2148422.0</td>\n",
       "      <td>5634.863752</td>\n",
       "      <td>8178.908996</td>\n",
       "      <td>1.85</td>\n",
       "      <td>2534.9725</td>\n",
       "      <td>4108.945</td>\n",
       "      <td>6414.3175</td>\n",
       "      <td>1337755.86</td>\n",
       "    </tr>\n",
       "    <tr>\n",
       "      <th>fips</th>\n",
       "      <td>2152864.0</td>\n",
       "      <td>6048.377330</td>\n",
       "      <td>20.433289</td>\n",
       "      <td>6037.00</td>\n",
       "      <td>6037.0000</td>\n",
       "      <td>6037.000</td>\n",
       "      <td>6059.0000</td>\n",
       "      <td>6111.00</td>\n",
       "    </tr>\n",
       "  </tbody>\n",
       "</table>\n",
       "</div>"
      ],
      "text/plain": [
       "                                  count           mean            std  \\\n",
       "bedroomcnt                    2152853.0       3.287195       0.954757   \n",
       "bathroomcnt                   2152853.0       2.230687       0.999281   \n",
       "calculatedfinishedsquarefeet  2144379.0    1862.855178    1222.125124   \n",
       "taxvaluedollarcnt             2152371.0  461896.052361  699675.940049   \n",
       "yearbuilt                     2143526.0    1960.949681      22.162196   \n",
       "taxamount                     2148422.0    5634.863752    8178.908996   \n",
       "fips                          2152864.0    6048.377330      20.433289   \n",
       "\n",
       "                                  min          25%         50%          75%  \\\n",
       "bedroomcnt                       0.00       3.0000       3.000       4.0000   \n",
       "bathroomcnt                      0.00       2.0000       2.000       3.0000   \n",
       "calculatedfinishedsquarefeet     1.00    1257.0000    1623.000    2208.0000   \n",
       "taxvaluedollarcnt                1.00  188170.0000  327671.000  534527.0000   \n",
       "yearbuilt                     1801.00    1949.0000    1958.000    1976.0000   \n",
       "taxamount                        1.85    2534.9725    4108.945    6414.3175   \n",
       "fips                          6037.00    6037.0000    6037.000    6059.0000   \n",
       "\n",
       "                                      max  \n",
       "bedroomcnt                          25.00  \n",
       "bathroomcnt                         32.00  \n",
       "calculatedfinishedsquarefeet    952576.00  \n",
       "taxvaluedollarcnt             98428909.00  \n",
       "yearbuilt                         2016.00  \n",
       "taxamount                      1337755.86  \n",
       "fips                              6111.00  "
      ]
     },
     "execution_count": 4,
     "metadata": {},
     "output_type": "execute_result"
    }
   ],
   "source": [
    "zil.describe().T"
   ]
  },
  {
   "cell_type": "code",
   "execution_count": 5,
   "id": "8eb03c26-ce6d-4d0b-9849-cbcfc7513e4f",
   "metadata": {},
   "outputs": [
    {
     "name": "stdout",
     "output_type": "stream",
     "text": [
      "<class 'pandas.core.frame.DataFrame'>\n",
      "RangeIndex: 2152864 entries, 0 to 2152863\n",
      "Data columns (total 7 columns):\n",
      " #   Column                        Non-Null Count    Dtype  \n",
      "---  ------                        --------------    -----  \n",
      " 0   bedroomcnt                    2152853 non-null  float64\n",
      " 1   bathroomcnt                   2152853 non-null  float64\n",
      " 2   calculatedfinishedsquarefeet  2144379 non-null  float64\n",
      " 3   taxvaluedollarcnt             2152371 non-null  float64\n",
      " 4   yearbuilt                     2143526 non-null  float64\n",
      " 5   taxamount                     2148422 non-null  float64\n",
      " 6   fips                          2152864 non-null  float64\n",
      "dtypes: float64(7)\n",
      "memory usage: 115.0 MB\n"
     ]
    }
   ],
   "source": [
    "zil.info(show_counts=True)"
   ]
  },
  {
   "cell_type": "code",
   "execution_count": 6,
   "id": "e3927096-8caa-4660-b507-5a130676d51b",
   "metadata": {},
   "outputs": [],
   "source": [
    "# FROM REVIEW. ANOTHER WAY\n",
    "def remove_outliars(df, k, cols):\n",
    "    for col in cols:\n",
    "        q1,q3 = df[col].quantile([.25,.75])\n",
    "        iqr = q3-q1\n",
    "        upper = q3 + k*iqr\n",
    "        lower = q1 - k*iqr\n",
    "        \n",
    "        df = df[(df[col] > lower) & (df[col] < upper)]\n",
    "        \n",
    "    return df"
   ]
  },
  {
   "cell_type": "code",
   "execution_count": 7,
   "id": "4405ef31-3974-4412-8259-69ef10122559",
   "metadata": {},
   "outputs": [],
   "source": [
    "zil = remove_outliars(zil, 1.5, ['bedroomcnt', 'bathroomcnt', 'calculatedfinishedsquarefeet','taxvaluedollarcnt','taxamount'])"
   ]
  },
  {
   "cell_type": "code",
   "execution_count": 8,
   "id": "6100b108-6d42-4304-9aae-4043bd23f9f1",
   "metadata": {},
   "outputs": [
    {
     "data": {
      "text/plain": [
       "<AxesSubplot:xlabel='taxamount'>"
      ]
     },
     "execution_count": 8,
     "metadata": {},
     "output_type": "execute_result"
    },
    {
     "data": {
      "image/png": "[encoded data removed]",
      "text/plain": [
       "<Figure size 432x288 with 1 Axes>"
      ]
     },
     "metadata": {},
     "output_type": "display_data"
    }
   ],
   "source": [
    "sns.boxplot(data=zil, x='taxamount')"
   ]
  },
  {
   "cell_type": "code",
   "execution_count": 9,
   "id": "81d6bd57-b437-4644-8657-ac08ba79ffcb",
   "metadata": {},
   "outputs": [
    {
     "data": {
      "text/html": [
       "<div>\n",
       "<style scoped>\n",
       "    .dataframe tbody tr th:only-of-type {\n",
       "        vertical-align: middle;\n",
       "    }\n",
       "\n",
       "    .dataframe tbody tr th {\n",
       "        vertical-align: top;\n",
       "    }\n",
       "\n",
       "    .dataframe thead th {\n",
       "        text-align: right;\n",
       "    }\n",
       "</style>\n",
       "<table border=\"1\" class=\"dataframe\">\n",
       "  <thead>\n",
       "    <tr style=\"text-align: right;\">\n",
       "      <th></th>\n",
       "      <th>count</th>\n",
       "      <th>mean</th>\n",
       "      <th>std</th>\n",
       "      <th>min</th>\n",
       "      <th>25%</th>\n",
       "      <th>50%</th>\n",
       "      <th>75%</th>\n",
       "      <th>max</th>\n",
       "    </tr>\n",
       "  </thead>\n",
       "  <tbody>\n",
       "    <tr>\n",
       "      <th>bedroomcnt</th>\n",
       "      <td>1855285.0</td>\n",
       "      <td>3.214593</td>\n",
       "      <td>0.781464</td>\n",
       "      <td>2.00</td>\n",
       "      <td>3.00</td>\n",
       "      <td>3.00</td>\n",
       "      <td>4.00</td>\n",
       "      <td>5.00</td>\n",
       "    </tr>\n",
       "    <tr>\n",
       "      <th>bathroomcnt</th>\n",
       "      <td>1855285.0</td>\n",
       "      <td>2.053629</td>\n",
       "      <td>0.707729</td>\n",
       "      <td>1.00</td>\n",
       "      <td>2.00</td>\n",
       "      <td>2.00</td>\n",
       "      <td>2.50</td>\n",
       "      <td>4.00</td>\n",
       "    </tr>\n",
       "    <tr>\n",
       "      <th>calculatedfinishedsquarefeet</th>\n",
       "      <td>1855285.0</td>\n",
       "      <td>1653.860449</td>\n",
       "      <td>564.642431</td>\n",
       "      <td>1.00</td>\n",
       "      <td>1231.00</td>\n",
       "      <td>1548.00</td>\n",
       "      <td>1988.00</td>\n",
       "      <td>3410.00</td>\n",
       "    </tr>\n",
       "    <tr>\n",
       "      <th>taxvaluedollarcnt</th>\n",
       "      <td>1855285.0</td>\n",
       "      <td>327947.824862</td>\n",
       "      <td>198968.724988</td>\n",
       "      <td>22.00</td>\n",
       "      <td>173806.00</td>\n",
       "      <td>296621.00</td>\n",
       "      <td>452500.00</td>\n",
       "      <td>950940.00</td>\n",
       "    </tr>\n",
       "    <tr>\n",
       "      <th>yearbuilt</th>\n",
       "      <td>1854411.0</td>\n",
       "      <td>1959.444875</td>\n",
       "      <td>20.546039</td>\n",
       "      <td>1801.00</td>\n",
       "      <td>1949.00</td>\n",
       "      <td>1957.00</td>\n",
       "      <td>1972.00</td>\n",
       "      <td>2016.00</td>\n",
       "    </tr>\n",
       "    <tr>\n",
       "      <th>taxamount</th>\n",
       "      <td>1855285.0</td>\n",
       "      <td>4069.332016</td>\n",
       "      <td>2242.381016</td>\n",
       "      <td>16.48</td>\n",
       "      <td>2366.34</td>\n",
       "      <td>3747.01</td>\n",
       "      <td>5487.57</td>\n",
       "      <td>10377.84</td>\n",
       "    </tr>\n",
       "    <tr>\n",
       "      <th>fips</th>\n",
       "      <td>1855285.0</td>\n",
       "      <td>6048.348769</td>\n",
       "      <td>20.548267</td>\n",
       "      <td>6037.00</td>\n",
       "      <td>6037.00</td>\n",
       "      <td>6037.00</td>\n",
       "      <td>6059.00</td>\n",
       "      <td>6111.00</td>\n",
       "    </tr>\n",
       "  </tbody>\n",
       "</table>\n",
       "</div>"
      ],
      "text/plain": [
       "                                  count           mean            std  \\\n",
       "bedroomcnt                    1855285.0       3.214593       0.781464   \n",
       "bathroomcnt                   1855285.0       2.053629       0.707729   \n",
       "calculatedfinishedsquarefeet  1855285.0    1653.860449     564.642431   \n",
       "taxvaluedollarcnt             1855285.0  327947.824862  198968.724988   \n",
       "yearbuilt                     1854411.0    1959.444875      20.546039   \n",
       "taxamount                     1855285.0    4069.332016    2242.381016   \n",
       "fips                          1855285.0    6048.348769      20.548267   \n",
       "\n",
       "                                  min        25%        50%        75%  \\\n",
       "bedroomcnt                       2.00       3.00       3.00       4.00   \n",
       "bathroomcnt                      1.00       2.00       2.00       2.50   \n",
       "calculatedfinishedsquarefeet     1.00    1231.00    1548.00    1988.00   \n",
       "taxvaluedollarcnt               22.00  173806.00  296621.00  452500.00   \n",
       "yearbuilt                     1801.00    1949.00    1957.00    1972.00   \n",
       "taxamount                       16.48    2366.34    3747.01    5487.57   \n",
       "fips                          6037.00    6037.00    6037.00    6059.00   \n",
       "\n",
       "                                    max  \n",
       "bedroomcnt                         5.00  \n",
       "bathroomcnt                        4.00  \n",
       "calculatedfinishedsquarefeet    3410.00  \n",
       "taxvaluedollarcnt             950940.00  \n",
       "yearbuilt                       2016.00  \n",
       "taxamount                      10377.84  \n",
       "fips                            6111.00  "
      ]
     },
     "execution_count": 9,
     "metadata": {},
     "output_type": "execute_result"
    }
   ],
   "source": [
    "zil.describe().T"
   ]
  },
  {
   "cell_type": "code",
   "execution_count": 10,
   "id": "6c6d12d1-c9ee-4388-a9dc-a516b4d99683",
   "metadata": {},
   "outputs": [
    {
     "data": {
      "text/plain": [
       "bedroomcnt                        0\n",
       "bathroomcnt                       0\n",
       "calculatedfinishedsquarefeet      0\n",
       "taxvaluedollarcnt                 0\n",
       "yearbuilt                       874\n",
       "taxamount                         0\n",
       "fips                              0\n",
       "dtype: int64"
      ]
     },
     "execution_count": 10,
     "metadata": {},
     "output_type": "execute_result"
    }
   ],
   "source": [
    "zil.isnull().sum()"
   ]
  },
  {
   "cell_type": "code",
   "execution_count": 11,
   "id": "b7faf6a1-45b9-4ae2-bc86-7c790ec86bc9",
   "metadata": {},
   "outputs": [
    {
     "data": {
      "text/plain": [
       "0    1955.0\n",
       "Name: yearbuilt, dtype: float64"
      ]
     },
     "execution_count": 11,
     "metadata": {},
     "output_type": "execute_result"
    }
   ],
   "source": [
    "zil.yearbuilt.mode()"
   ]
  },
  {
   "cell_type": "code",
   "execution_count": 12,
   "id": "3ba7a627-b6fc-4d8d-8a1d-a29984383f5e",
   "metadata": {},
   "outputs": [],
   "source": [
    "# INITIAL WRANGLE BELOW"
   ]
  },
  {
   "cell_type": "code",
   "execution_count": 4,
   "id": "a5863c07-c967-4f5e-86e7-20345997eccc",
   "metadata": {},
   "outputs": [],
   "source": [
    "zil = zil.dropna(how='any')"
   ]
  },
  {
   "cell_type": "code",
   "execution_count": 5,
   "id": "4658eca2-4feb-422a-a0c6-b4c6e8edbc88",
   "metadata": {},
   "outputs": [
    {
     "data": {
      "text/plain": [
       "bedroomcnt                      0\n",
       "bathroomcnt                     0\n",
       "calculatedfinishedsquarefeet    0\n",
       "taxvaluedollarcnt               0\n",
       "yearbuilt                       0\n",
       "taxamount                       0\n",
       "fips                            0\n",
       "dtype: int64"
      ]
     },
     "execution_count": 5,
     "metadata": {},
     "output_type": "execute_result"
    }
   ],
   "source": [
    "zil.isnull().sum()"
   ]
  },
  {
   "cell_type": "code",
   "execution_count": 6,
   "id": "77f789b7-528f-4ad3-979b-8ae90a752217",
   "metadata": {},
   "outputs": [
    {
     "data": {
      "text/plain": [
       "6111.0     325354\n",
       "6059.0    1100896\n",
       "6037.0    2848344\n",
       "Name: fips, dtype: int64"
      ]
     },
     "execution_count": 6,
     "metadata": {},
     "output_type": "execute_result"
    }
   ],
   "source": [
    "zil.fips.value_counts(ascending=True)"
   ]
  },
  {
   "cell_type": "code",
   "execution_count": 7,
   "id": "27bd875d-60a5-4e6a-908c-d421c7778461",
   "metadata": {},
   "outputs": [],
   "source": [
    "zil.bedroomcnt = zil.bedroomcnt.astype('int64')\n",
    "zil.calculatedfinishedsquarefeet = zil.calculatedfinishedsquarefeet.astype('int64')\n",
    "zil.taxvaluedollarcnt = zil.taxvaluedollarcnt.astype('int64')\n",
    "zil.yearbuilt = zil.yearbuilt.astype('int64')\n",
    "zil.fips = zil.fips.astype('int64')"
   ]
  },
  {
   "cell_type": "code",
   "execution_count": 8,
   "id": "5d50595a-f51a-4625-9cd3-e3fae174fb03",
   "metadata": {},
   "outputs": [
    {
     "data": {
      "text/html": [
       "<div>\n",
       "<style scoped>\n",
       "    .dataframe tbody tr th:only-of-type {\n",
       "        vertical-align: middle;\n",
       "    }\n",
       "\n",
       "    .dataframe tbody tr th {\n",
       "        vertical-align: top;\n",
       "    }\n",
       "\n",
       "    .dataframe thead th {\n",
       "        text-align: right;\n",
       "    }\n",
       "</style>\n",
       "<table border=\"1\" class=\"dataframe\">\n",
       "  <thead>\n",
       "    <tr style=\"text-align: right;\">\n",
       "      <th></th>\n",
       "      <th>bedroomcnt</th>\n",
       "      <th>bathroomcnt</th>\n",
       "      <th>calculatedfinishedsquarefeet</th>\n",
       "      <th>taxvaluedollarcnt</th>\n",
       "      <th>yearbuilt</th>\n",
       "      <th>taxamount</th>\n",
       "      <th>fips</th>\n",
       "    </tr>\n",
       "  </thead>\n",
       "  <tbody>\n",
       "    <tr>\n",
       "      <th>0</th>\n",
       "      <td>4</td>\n",
       "      <td>3.0</td>\n",
       "      <td>2090</td>\n",
       "      <td>615000</td>\n",
       "      <td>1973</td>\n",
       "      <td>8625.75</td>\n",
       "      <td>6037</td>\n",
       "    </tr>\n",
       "    <tr>\n",
       "      <th>1</th>\n",
       "      <td>5</td>\n",
       "      <td>3.0</td>\n",
       "      <td>2479</td>\n",
       "      <td>531642</td>\n",
       "      <td>1973</td>\n",
       "      <td>6722.67</td>\n",
       "      <td>6037</td>\n",
       "    </tr>\n",
       "    <tr>\n",
       "      <th>2</th>\n",
       "      <td>4</td>\n",
       "      <td>2.0</td>\n",
       "      <td>2057</td>\n",
       "      <td>328148</td>\n",
       "      <td>1973</td>\n",
       "      <td>4160.63</td>\n",
       "      <td>6037</td>\n",
       "    </tr>\n",
       "    <tr>\n",
       "      <th>3</th>\n",
       "      <td>4</td>\n",
       "      <td>3.0</td>\n",
       "      <td>2423</td>\n",
       "      <td>297377</td>\n",
       "      <td>1978</td>\n",
       "      <td>3883.47</td>\n",
       "      <td>6037</td>\n",
       "    </tr>\n",
       "    <tr>\n",
       "      <th>4</th>\n",
       "      <td>4</td>\n",
       "      <td>3.0</td>\n",
       "      <td>2226</td>\n",
       "      <td>297001</td>\n",
       "      <td>1978</td>\n",
       "      <td>3884.27</td>\n",
       "      <td>6037</td>\n",
       "    </tr>\n",
       "  </tbody>\n",
       "</table>\n",
       "</div>"
      ],
      "text/plain": [
       "   bedroomcnt  bathroomcnt  calculatedfinishedsquarefeet  taxvaluedollarcnt  \\\n",
       "0           4          3.0                          2090             615000   \n",
       "1           5          3.0                          2479             531642   \n",
       "2           4          2.0                          2057             328148   \n",
       "3           4          3.0                          2423             297377   \n",
       "4           4          3.0                          2226             297001   \n",
       "\n",
       "   yearbuilt  taxamount  fips  \n",
       "0       1973    8625.75  6037  \n",
       "1       1973    6722.67  6037  \n",
       "2       1973    4160.63  6037  \n",
       "3       1978    3883.47  6037  \n",
       "4       1978    3884.27  6037  "
      ]
     },
     "execution_count": 8,
     "metadata": {},
     "output_type": "execute_result"
    }
   ],
   "source": [
    "zil.head()"
   ]
  },
  {
   "cell_type": "markdown",
   "id": "81e6f9e6-5732-44ce-ac9a-c861efd5a141",
   "metadata": {},
   "source": [
    "#### 3. Store all of the necessary functions to automate your process from acquiring the data to returning a cleaned dataframe with no missing values in your wrangle.py file. Name your final function wrangle_zillow."
   ]
  },
  {
   "cell_type": "code",
   "execution_count": 19,
   "id": "f74f043d-243b-42c9-aeb1-c296d7abb4c8",
   "metadata": {},
   "outputs": [],
   "source": [
    "def wrangle_zillow():\n",
    "    '''\n",
    "    This function checks if the zillow data is saved locally. \n",
    "    If it is not local, this function reads the zillow data from \n",
    "    the CodeUp MySQL database and return it in a DataFrame.\n",
    "    '''\n",
    "    \n",
    "    # Acquire\n",
    "    filename = 'zillow.csv'\n",
    "    if os.path.isfile(filename):\n",
    "        df = pd.read_csv(filename).iloc[:,1:]\n",
    "    else:\n",
    "        q1 = '''SELECT bedroomcnt, \n",
    "                    bathroomcnt, \n",
    "                    calculatedfinishedsquarefeet,\n",
    "                    taxvaluedollarcnt,\n",
    "                    yearbuilt,\n",
    "                    taxamount,\n",
    "                    fips\n",
    "                 FROM properties_2016\n",
    "                 WHERE propertylandusetypeid = 261\n",
    "             ;'''\n",
    "        q2 = '''SELECT bedroomcnt, \n",
    "                    bathroomcnt, \n",
    "                    calculatedfinishedsquarefeet,\n",
    "                    taxvaluedollarcnt,\n",
    "                    yearbuilt,\n",
    "                    taxamount,\n",
    "                    fips\n",
    "                 FROM properties_2017\n",
    "                 WHERE propertylandusetypeid = 261\n",
    "             ;'''\n",
    "        df1 = pd.read_sql(q1, conn('zillow'))\n",
    "        df2 = pd.read_sql(q2, conn('zillow'))\n",
    "        df = pd.concat([df1,df2])\n",
    "\n",
    "        df.to_csv(filename)\n",
    "        \n",
    "        \n",
    "    # Prepare\n",
    "    df = df.dropna(how='any')\n",
    "    df.bedroomcnt = df.bedroomcnt.astype('int64')\n",
    "    df.calculatedfinishedsquarefeet = df.calculatedfinishedsquarefeet.astype('int64')\n",
    "    df.taxvaluedollarcnt = df.taxvaluedollarcnt.astype('int64')\n",
    "    df.yearbuilt = df.yearbuilt.astype('int64')\n",
    "    df.fips = df.fips.astype('int64')\n",
    "    \n",
    "    df.columns = ['beds', 'baths', 'sqft', 'price', 'built', 'taxes', 'location']\n",
    "    \n",
    "    return df"
   ]
  },
  {
   "cell_type": "code",
   "execution_count": 20,
   "id": "bc6fd94d-de28-4bed-a052-b33457896155",
   "metadata": {},
   "outputs": [],
   "source": [
    "test = wrangle_zillow()"
   ]
  },
  {
   "cell_type": "code",
   "execution_count": 21,
   "id": "977b3a3a-75dc-4219-82ec-09325a0f3a6a",
   "metadata": {},
   "outputs": [
    {
     "data": {
      "text/html": [
       "<div>\n",
       "<style scoped>\n",
       "    .dataframe tbody tr th:only-of-type {\n",
       "        vertical-align: middle;\n",
       "    }\n",
       "\n",
       "    .dataframe tbody tr th {\n",
       "        vertical-align: top;\n",
       "    }\n",
       "\n",
       "    .dataframe thead th {\n",
       "        text-align: right;\n",
       "    }\n",
       "</style>\n",
       "<table border=\"1\" class=\"dataframe\">\n",
       "  <thead>\n",
       "    <tr style=\"text-align: right;\">\n",
       "      <th></th>\n",
       "      <th>beds</th>\n",
       "      <th>baths</th>\n",
       "      <th>sqft</th>\n",
       "      <th>price</th>\n",
       "      <th>built</th>\n",
       "      <th>taxes</th>\n",
       "      <th>location</th>\n",
       "    </tr>\n",
       "  </thead>\n",
       "  <tbody>\n",
       "    <tr>\n",
       "      <th>0</th>\n",
       "      <td>4</td>\n",
       "      <td>3.0</td>\n",
       "      <td>2090</td>\n",
       "      <td>615000</td>\n",
       "      <td>1973</td>\n",
       "      <td>8625.75</td>\n",
       "      <td>6037</td>\n",
       "    </tr>\n",
       "    <tr>\n",
       "      <th>1</th>\n",
       "      <td>5</td>\n",
       "      <td>3.0</td>\n",
       "      <td>2479</td>\n",
       "      <td>531642</td>\n",
       "      <td>1973</td>\n",
       "      <td>6722.67</td>\n",
       "      <td>6037</td>\n",
       "    </tr>\n",
       "    <tr>\n",
       "      <th>2</th>\n",
       "      <td>4</td>\n",
       "      <td>2.0</td>\n",
       "      <td>2057</td>\n",
       "      <td>328148</td>\n",
       "      <td>1973</td>\n",
       "      <td>4160.63</td>\n",
       "      <td>6037</td>\n",
       "    </tr>\n",
       "    <tr>\n",
       "      <th>3</th>\n",
       "      <td>4</td>\n",
       "      <td>3.0</td>\n",
       "      <td>2423</td>\n",
       "      <td>297377</td>\n",
       "      <td>1978</td>\n",
       "      <td>3883.47</td>\n",
       "      <td>6037</td>\n",
       "    </tr>\n",
       "    <tr>\n",
       "      <th>4</th>\n",
       "      <td>4</td>\n",
       "      <td>3.0</td>\n",
       "      <td>2226</td>\n",
       "      <td>297001</td>\n",
       "      <td>1978</td>\n",
       "      <td>3884.27</td>\n",
       "      <td>6037</td>\n",
       "    </tr>\n",
       "  </tbody>\n",
       "</table>\n",
       "</div>"
      ],
      "text/plain": [
       "   beds  baths  sqft   price  built    taxes  location\n",
       "0     4    3.0  2090  615000   1973  8625.75      6037\n",
       "1     5    3.0  2479  531642   1973  6722.67      6037\n",
       "2     4    2.0  2057  328148   1973  4160.63      6037\n",
       "3     4    3.0  2423  297377   1978  3883.47      6037\n",
       "4     4    3.0  2226  297001   1978  3884.27      6037"
      ]
     },
     "execution_count": 21,
     "metadata": {},
     "output_type": "execute_result"
    }
   ],
   "source": [
    "test.head()"
   ]
  },
  {
   "cell_type": "code",
   "execution_count": 22,
   "id": "e4675039-4d1d-4a00-b22c-0ec051e046e6",
   "metadata": {},
   "outputs": [
    {
     "name": "stdout",
     "output_type": "stream",
     "text": [
      "<class 'pandas.core.frame.DataFrame'>\n",
      "Int64Index: 4274594 entries, 0 to 4301224\n",
      "Data columns (total 7 columns):\n",
      " #   Column    Dtype  \n",
      "---  ------    -----  \n",
      " 0   beds      int64  \n",
      " 1   baths     float64\n",
      " 2   sqft      int64  \n",
      " 3   price     int64  \n",
      " 4   built     int64  \n",
      " 5   taxes     float64\n",
      " 6   location  int64  \n",
      "dtypes: float64(2), int64(5)\n",
      "memory usage: 260.9 MB\n"
     ]
    }
   ],
   "source": [
    "test.info()"
   ]
  },
  {
   "cell_type": "code",
   "execution_count": 2,
   "id": "ad040c2e-aa71-4422-b453-ba98ce0eff3c",
   "metadata": {},
   "outputs": [],
   "source": [
    "# Test it out\n",
    "import wrangle"
   ]
  },
  {
   "cell_type": "code",
   "execution_count": 3,
   "id": "d514bc50-99b5-42fd-8cda-7f9c6b093777",
   "metadata": {},
   "outputs": [],
   "source": [
    "df = wrangle.wrangle_zillow()"
   ]
  },
  {
   "cell_type": "code",
   "execution_count": 4,
   "id": "d8292df4-e302-4f1b-ad96-dffa4671e427",
   "metadata": {},
   "outputs": [
    {
     "data": {
      "text/plain": [
       "beds        0\n",
       "baths       0\n",
       "sqft        0\n",
       "price       0\n",
       "built       0\n",
       "taxes       0\n",
       "location    0\n",
       "dtype: int64"
      ]
     },
     "execution_count": 4,
     "metadata": {},
     "output_type": "execute_result"
    }
   ],
   "source": [
    "df.isnull().sum()"
   ]
  },
  {
   "cell_type": "code",
   "execution_count": 5,
   "id": "82c73e86-21d4-45d3-ae38-3d8376a0100d",
   "metadata": {},
   "outputs": [
    {
     "data": {
      "text/html": [
       "<div>\n",
       "<style scoped>\n",
       "    .dataframe tbody tr th:only-of-type {\n",
       "        vertical-align: middle;\n",
       "    }\n",
       "\n",
       "    .dataframe tbody tr th {\n",
       "        vertical-align: top;\n",
       "    }\n",
       "\n",
       "    .dataframe thead th {\n",
       "        text-align: right;\n",
       "    }\n",
       "</style>\n",
       "<table border=\"1\" class=\"dataframe\">\n",
       "  <thead>\n",
       "    <tr style=\"text-align: right;\">\n",
       "      <th></th>\n",
       "      <th>beds</th>\n",
       "      <th>baths</th>\n",
       "      <th>sqft</th>\n",
       "      <th>price</th>\n",
       "      <th>built</th>\n",
       "      <th>taxes</th>\n",
       "      <th>location</th>\n",
       "    </tr>\n",
       "  </thead>\n",
       "  <tbody>\n",
       "    <tr>\n",
       "      <th>0</th>\n",
       "      <td>4</td>\n",
       "      <td>3.0</td>\n",
       "      <td>2090</td>\n",
       "      <td>615000</td>\n",
       "      <td>1973</td>\n",
       "      <td>8625.75</td>\n",
       "      <td>6037</td>\n",
       "    </tr>\n",
       "    <tr>\n",
       "      <th>1</th>\n",
       "      <td>5</td>\n",
       "      <td>3.0</td>\n",
       "      <td>2479</td>\n",
       "      <td>531642</td>\n",
       "      <td>1973</td>\n",
       "      <td>6722.67</td>\n",
       "      <td>6037</td>\n",
       "    </tr>\n",
       "    <tr>\n",
       "      <th>2</th>\n",
       "      <td>4</td>\n",
       "      <td>2.0</td>\n",
       "      <td>2057</td>\n",
       "      <td>328148</td>\n",
       "      <td>1973</td>\n",
       "      <td>4160.63</td>\n",
       "      <td>6037</td>\n",
       "    </tr>\n",
       "    <tr>\n",
       "      <th>3</th>\n",
       "      <td>4</td>\n",
       "      <td>3.0</td>\n",
       "      <td>2423</td>\n",
       "      <td>297377</td>\n",
       "      <td>1978</td>\n",
       "      <td>3883.47</td>\n",
       "      <td>6037</td>\n",
       "    </tr>\n",
       "    <tr>\n",
       "      <th>4</th>\n",
       "      <td>4</td>\n",
       "      <td>3.0</td>\n",
       "      <td>2226</td>\n",
       "      <td>297001</td>\n",
       "      <td>1978</td>\n",
       "      <td>3884.27</td>\n",
       "      <td>6037</td>\n",
       "    </tr>\n",
       "  </tbody>\n",
       "</table>\n",
       "</div>"
      ],
      "text/plain": [
       "   beds  baths  sqft   price  built    taxes  location\n",
       "0     4    3.0  2090  615000   1973  8625.75      6037\n",
       "1     5    3.0  2479  531642   1973  6722.67      6037\n",
       "2     4    2.0  2057  328148   1973  4160.63      6037\n",
       "3     4    3.0  2423  297377   1978  3883.47      6037\n",
       "4     4    3.0  2226  297001   1978  3884.27      6037"
      ]
     },
     "execution_count": 5,
     "metadata": {},
     "output_type": "execute_result"
    }
   ],
   "source": [
    "df.head()"
   ]
  },
  {
   "cell_type": "code",
   "execution_count": 6,
   "id": "95a2c1b8-2fd8-40dd-8517-db63c85c1da3",
   "metadata": {},
   "outputs": [
    {
     "name": "stdout",
     "output_type": "stream",
     "text": [
      "<class 'pandas.core.frame.DataFrame'>\n",
      "Int64Index: 4274594 entries, 0 to 4301224\n",
      "Data columns (total 7 columns):\n",
      " #   Column    Non-Null Count    Dtype  \n",
      "---  ------    --------------    -----  \n",
      " 0   beds      4274594 non-null  int64  \n",
      " 1   baths     4274594 non-null  float64\n",
      " 2   sqft      4274594 non-null  int64  \n",
      " 3   price     4274594 non-null  int64  \n",
      " 4   built     4274594 non-null  int64  \n",
      " 5   taxes     4274594 non-null  float64\n",
      " 6   location  4274594 non-null  int64  \n",
      "dtypes: float64(2), int64(5)\n",
      "memory usage: 260.9 MB\n"
     ]
    }
   ],
   "source": [
    "df.info(show_counts=True)"
   ]
  },
  {
   "cell_type": "code",
   "execution_count": 2,
   "id": "bbf25f6b-9dd5-464f-b961-9824aaa0f153",
   "metadata": {},
   "outputs": [],
   "source": [
    "# TEST WRANGLE"
   ]
  },
  {
   "cell_type": "code",
   "execution_count": 3,
   "id": "5e0ac3d8-396f-4a40-a883-2ca34088bfa1",
   "metadata": {},
   "outputs": [],
   "source": [
    "df = wrangle.wrangle_zillow()"
   ]
  },
  {
   "cell_type": "code",
   "execution_count": 4,
   "id": "3f488658-e4d2-4be9-81e5-4f392e934f20",
   "metadata": {},
   "outputs": [
    {
     "data": {
      "text/html": [
       "<div>\n",
       "<style scoped>\n",
       "    .dataframe tbody tr th:only-of-type {\n",
       "        vertical-align: middle;\n",
       "    }\n",
       "\n",
       "    .dataframe tbody tr th {\n",
       "        vertical-align: top;\n",
       "    }\n",
       "\n",
       "    .dataframe thead th {\n",
       "        text-align: right;\n",
       "    }\n",
       "</style>\n",
       "<table border=\"1\" class=\"dataframe\">\n",
       "  <thead>\n",
       "    <tr style=\"text-align: right;\">\n",
       "      <th></th>\n",
       "      <th>beds</th>\n",
       "      <th>baths</th>\n",
       "      <th>sqft</th>\n",
       "      <th>tax_value</th>\n",
       "      <th>built</th>\n",
       "      <th>taxes</th>\n",
       "      <th>location</th>\n",
       "    </tr>\n",
       "  </thead>\n",
       "  <tbody>\n",
       "    <tr>\n",
       "      <th>6</th>\n",
       "      <td>3.0</td>\n",
       "      <td>4.0</td>\n",
       "      <td>1620.0</td>\n",
       "      <td>847770.0</td>\n",
       "      <td>2011.0</td>\n",
       "      <td>10244.94</td>\n",
       "      <td>6037.0</td>\n",
       "    </tr>\n",
       "    <tr>\n",
       "      <th>7</th>\n",
       "      <td>3.0</td>\n",
       "      <td>2.0</td>\n",
       "      <td>2077.0</td>\n",
       "      <td>646760.0</td>\n",
       "      <td>1926.0</td>\n",
       "      <td>7924.68</td>\n",
       "      <td>6037.0</td>\n",
       "    </tr>\n",
       "    <tr>\n",
       "      <th>18</th>\n",
       "      <td>3.0</td>\n",
       "      <td>1.0</td>\n",
       "      <td>1244.0</td>\n",
       "      <td>169471.0</td>\n",
       "      <td>1950.0</td>\n",
       "      <td>2532.88</td>\n",
       "      <td>6037.0</td>\n",
       "    </tr>\n",
       "    <tr>\n",
       "      <th>19</th>\n",
       "      <td>3.0</td>\n",
       "      <td>2.0</td>\n",
       "      <td>1300.0</td>\n",
       "      <td>233266.0</td>\n",
       "      <td>1950.0</td>\n",
       "      <td>3110.99</td>\n",
       "      <td>6037.0</td>\n",
       "    </tr>\n",
       "    <tr>\n",
       "      <th>20</th>\n",
       "      <td>3.0</td>\n",
       "      <td>2.0</td>\n",
       "      <td>1222.0</td>\n",
       "      <td>290492.0</td>\n",
       "      <td>1951.0</td>\n",
       "      <td>3870.25</td>\n",
       "      <td>6037.0</td>\n",
       "    </tr>\n",
       "  </tbody>\n",
       "</table>\n",
       "</div>"
      ],
      "text/plain": [
       "    beds  baths    sqft  tax_value   built     taxes  location\n",
       "6    3.0    4.0  1620.0   847770.0  2011.0  10244.94    6037.0\n",
       "7    3.0    2.0  2077.0   646760.0  1926.0   7924.68    6037.0\n",
       "18   3.0    1.0  1244.0   169471.0  1950.0   2532.88    6037.0\n",
       "19   3.0    2.0  1300.0   233266.0  1950.0   3110.99    6037.0\n",
       "20   3.0    2.0  1222.0   290492.0  1951.0   3870.25    6037.0"
      ]
     },
     "execution_count": 4,
     "metadata": {},
     "output_type": "execute_result"
    }
   ],
   "source": [
    "df.head()"
   ]
  },
  {
   "cell_type": "code",
   "execution_count": 5,
   "id": "130c2fe6-1eb4-4a34-8045-d460f4470460",
   "metadata": {},
   "outputs": [],
   "source": [
    "train, val, test = wrangle.split_data(df)"
   ]
  },
  {
   "cell_type": "code",
   "execution_count": 6,
   "id": "9389a974-afe1-4691-a141-f47dd25e6615",
   "metadata": {},
   "outputs": [],
   "source": [
    "train,val,test = wrangle.impute_mode(train,val,test,'built')"
   ]
  },
  {
   "cell_type": "code",
   "execution_count": 9,
   "id": "14440b36-583f-41c5-a52c-53b2e6c84b3c",
   "metadata": {},
   "outputs": [
    {
     "data": {
      "text/plain": [
       "beds         0\n",
       "baths        0\n",
       "sqft         0\n",
       "tax_value    0\n",
       "built        0\n",
       "taxes        0\n",
       "location     0\n",
       "dtype: int64"
      ]
     },
     "execution_count": 9,
     "metadata": {},
     "output_type": "execute_result"
    }
   ],
   "source": [
    "train.isnull().sum()"
   ]
  },
  {
   "cell_type": "code",
   "execution_count": null,
   "id": "a66162da-40da-4f4c-9b9d-262b6d9fc265",
   "metadata": {},
   "outputs": [],
   "source": []
  }
 ],
 "metadata": {
  "kernelspec": {
   "display_name": "Python 3 (ipykernel)",
   "language": "python",
   "name": "python3"
  },
  "language_info": {
   "codemirror_mode": {
    "name": "ipython",
    "version": 3
   },
   "file_extension": ".py",
   "mimetype": "text/x-python",
   "name": "python",
   "nbconvert_exporter": "python",
   "pygments_lexer": "ipython3",
   "version": "3.9.12"
  }
 },
 "nbformat": 4,
 "nbformat_minor": 5
}
